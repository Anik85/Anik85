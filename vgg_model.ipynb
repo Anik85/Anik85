{
  "cells": [
    {
      "cell_type": "markdown",
      "metadata": {
        "id": "view-in-github",
        "colab_type": "text"
      },
      "source": [
        "<a href=\"https://colab.research.google.com/github/Anik85/Anik85/blob/main/vgg_model.ipynb\" target=\"_parent\"><img src=\"https://colab.research.google.com/assets/colab-badge.svg\" alt=\"Open In Colab\"/></a>"
      ]
    },
    {
      "cell_type": "code",
      "execution_count": 1,
      "metadata": {
        "id": "6dNDIZ0ml924"
      },
      "outputs": [],
      "source": [
        "!mkdir -p ~/.kaggle\n",
        "!cp kaggle.json ~/.kaggle/"
      ]
    },
    {
      "cell_type": "code",
      "execution_count": 2,
      "metadata": {
        "colab": {
          "base_uri": "https://localhost:8080/"
        },
        "id": "USNlU4MNmKb4",
        "outputId": "04202ea6-3a96-4151-e34e-83a9c265d7fc"
      },
      "outputs": [
        {
          "output_type": "stream",
          "name": "stdout",
          "text": [
            "Warning: Your Kaggle API key is readable by other users on this system! To fix this, you can run 'chmod 600 /root/.kaggle/kaggle.json'\n",
            "Downloading ecg-image-data.zip to /content\n",
            "100% 857M/858M [00:21<00:00, 42.8MB/s]\n",
            "100% 858M/858M [00:21<00:00, 41.7MB/s]\n"
          ]
        }
      ],
      "source": [
        "!kaggle datasets download -d erhmrai/ecg-image-data"
      ]
    },
    {
      "cell_type": "code",
      "execution_count": 3,
      "metadata": {
        "id": "zwC_H4B_mMUD"
      },
      "outputs": [],
      "source": [
        "import zipfile\n",
        "zip_ref=zipfile.ZipFile('/content/ecg-image-data.zip','r')\n",
        "zip_ref.extractall('/content')\n",
        "zip_ref.close()"
      ]
    },
    {
      "cell_type": "code",
      "execution_count": 4,
      "metadata": {
        "id": "08jLpfadmN-M"
      },
      "outputs": [],
      "source": [
        "import numpy as np\n",
        "import pandas as pd\n",
        "from pathlib import Path\n",
        "import os.path\n",
        "import matplotlib.pyplot as plt\n",
        "import tensorflow as tf\n",
        "from tensorflow.keras.models import Sequential\n",
        "from tensorflow.keras.layers import Convolution2D\n",
        "from tensorflow.keras.layers import MaxPooling2D\n",
        "from tensorflow.keras.layers import Flatten\n",
        "from tensorflow.keras.layers import Dense\n",
        "from tensorflow.keras.layers import Dropout, Activation , BatchNormalization\n",
        "from tensorflow.keras.preprocessing.image import ImageDataGenerator\n",
        "from tensorflow.keras.layers import Dense, Conv2D, MaxPool2D , Flatten\n",
        "from tensorflow.keras.losses import categorical_crossentropy\n",
        "from tensorflow.keras.optimizers import Adam\n",
        "from tensorflow.keras.losses import CategoricalCrossentropy\n",
        "from tensorflow.keras.regularizers import l2\n",
        "from tensorflow.keras.callbacks import ReduceLROnPlateau, EarlyStopping\n",
        "from keras.models import Model\n",
        "from keras.applications.vgg19 import VGG19, preprocess_input\n",
        "from tensorflow.keras.applications.resnet50 import ResNet50, preprocess_input\n",
        "from keras.applications.vgg16 import preprocess_input,VGG16\n",
        "from glob import glob\n",
        "from sklearn.metrics import confusion_matrix, classification_report"
      ]
    },
    {
      "cell_type": "code",
      "execution_count": 5,
      "metadata": {
        "colab": {
          "base_uri": "https://localhost:8080/",
          "height": 305
        },
        "id": "WNYiiAqbmRfj",
        "outputId": "ef76acb6-dee2-4250-daee-d809322c838b"
      },
      "outputs": [
        {
          "output_type": "stream",
          "name": "stdout",
          "text": [
            "(288, 432, 3)\n"
          ]
        },
        {
          "output_type": "execute_result",
          "data": {
            "text/plain": [
              "<matplotlib.image.AxesImage at 0x7f7f89673b50>"
            ]
          },
          "metadata": {},
          "execution_count": 5
        },
        {
          "output_type": "display_data",
          "data": {
            "text/plain": [
              "<Figure size 432x288 with 1 Axes>"
            ],
            "image/png": "[encoded data removed]"
          },
          "metadata": {
            "needs_background": "light"
          }
        }
      ],
      "source": [
        "import cv2\n",
        "path =r'/content/ECG_Image_data/test/S/S1070.png'\n",
        "#x=plt.imread(path)\n",
        "x = cv2.imread(path)\n",
        "print(x.shape)\n",
        "plt.imshow(x)"
      ]
    },
    {
      "cell_type": "code",
      "execution_count": 6,
      "metadata": {
        "colab": {
          "base_uri": "https://localhost:8080/",
          "height": 424
        },
        "id": "cd6chO_EmTi3",
        "outputId": "e93d5675-4cce-4cb8-dc32-07ad1f38b806"
      },
      "outputs": [
        {
          "output_type": "execute_result",
          "data": {
            "text/plain": [
              "                                        Filepath Label\n",
              "0      /content/ECG_Image_data/train/Q/Q1039.png     Q\n",
              "1      /content/ECG_Image_data/train/Q/Q7206.png     Q\n",
              "2       /content/ECG_Image_data/train/Q/Q367.png     Q\n",
              "3      /content/ECG_Image_data/train/Q/Q4548.png     Q\n",
              "4      /content/ECG_Image_data/train/Q/Q6629.png     Q\n",
              "...                                          ...   ...\n",
              "99194  /content/ECG_Image_data/train/M/M2469.png     M\n",
              "99195  /content/ECG_Image_data/train/M/M5724.png     M\n",
              "99196  /content/ECG_Image_data/train/M/M8708.png     M\n",
              "99197  /content/ECG_Image_data/train/M/M9175.png     M\n",
              "99198  /content/ECG_Image_data/train/M/M8996.png     M\n",
              "\n",
              "[99199 rows x 2 columns]"
            ],
            "text/html": [
              "\n",
              "  <div id=\"df-579b1040-7341-464d-800c-a71e7fd9bad8\">\n",
              "    <div class=\"colab-df-container\">\n",
              "      <div>\n",
              "<style scoped>\n",
              "    .dataframe tbody tr th:only-of-type {\n",
              "        vertical-align: middle;\n",
              "    }\n",
              "\n",
              "    .dataframe tbody tr th {\n",
              "        vertical-align: top;\n",
              "    }\n",
              "\n",
              "    .dataframe thead th {\n",
              "        text-align: right;\n",
              "    }\n",
              "</style>\n",
              "<table border=\"1\" class=\"dataframe\">\n",
              "  <thead>\n",
              "    <tr style=\"text-align: right;\">\n",
              "      <th></th>\n",
              "      <th>Filepath</th>\n",
              "      <th>Label</th>\n",
              "    </tr>\n",
              "  </thead>\n",
              "  <tbody>\n",
              "    <tr>\n",
              "      <th>0</th>\n",
              "      <td>/content/ECG_Image_data/train/Q/Q1039.png</td>\n",
              "      <td>Q</td>\n",
              "    </tr>\n",
              "    <tr>\n",
              "      <th>1</th>\n",
              "      <td>/content/ECG_Image_data/train/Q/Q7206.png</td>\n",
              "      <td>Q</td>\n",
              "    </tr>\n",
              "    <tr>\n",
              "      <th>2</th>\n",
              "      <td>/content/ECG_Image_data/train/Q/Q367.png</td>\n",
              "      <td>Q</td>\n",
              "    </tr>\n",
              "    <tr>\n",
              "      <th>3</th>\n",
              "      <td>/content/ECG_Image_data/train/Q/Q4548.png</td>\n",
              "      <td>Q</td>\n",
              "    </tr>\n",
              "    <tr>\n",
              "      <th>4</th>\n",
              "      <td>/content/ECG_Image_data/train/Q/Q6629.png</td>\n",
              "      <td>Q</td>\n",
              "    </tr>\n",
              "    <tr>\n",
              "      <th>...</th>\n",
              "      <td>...</td>\n",
              "      <td>...</td>\n",
              "    </tr>\n",
              "    <tr>\n",
              "      <th>99194</th>\n",
              "      <td>/content/ECG_Image_data/train/M/M2469.png</td>\n",
              "      <td>M</td>\n",
              "    </tr>\n",
              "    <tr>\n",
              "      <th>99195</th>\n",
              "      <td>/content/ECG_Image_data/train/M/M5724.png</td>\n",
              "      <td>M</td>\n",
              "    </tr>\n",
              "    <tr>\n",
              "      <th>99196</th>\n",
              "      <td>/content/ECG_Image_data/train/M/M8708.png</td>\n",
              "      <td>M</td>\n",
              "    </tr>\n",
              "    <tr>\n",
              "      <th>99197</th>\n",
              "      <td>/content/ECG_Image_data/train/M/M9175.png</td>\n",
              "      <td>M</td>\n",
              "    </tr>\n",
              "    <tr>\n",
              "      <th>99198</th>\n",
              "      <td>/content/ECG_Image_data/train/M/M8996.png</td>\n",
              "      <td>M</td>\n",
              "    </tr>\n",
              "  </tbody>\n",
              "</table>\n",
              "<p>99199 rows × 2 columns</p>\n",
              "</div>\n",
              "      <button class=\"colab-df-convert\" onclick=\"convertToInteractive('df-579b1040-7341-464d-800c-a71e7fd9bad8')\"\n",
              "              title=\"Convert this dataframe to an interactive table.\"\n",
              "              style=\"display:none;\">\n",
              "        \n",
              "  <svg xmlns=\"http://www.w3.org/2000/svg\" height=\"24px\"viewBox=\"0 0 24 24\"\n",
              "       width=\"24px\">\n",
              "    <path d=\"M0 0h24v24H0V0z\" fill=\"none\"/>\n",
              "    <path d=\"M18.56 5.44l.94 2.06.94-2.06 2.06-.94-2.06-.94-.94-2.06-.94 2.06-2.06.94zm-11 1L8.5 8.5l.94-2.06 2.06-.94-2.06-.94L8.5 2.5l-.94 2.06-2.06.94zm10 10l.94 2.06.94-2.06 2.06-.94-2.06-.94-.94-2.06-.94 2.06-2.06.94z\"/><path d=\"M17.41 7.96l-1.37-1.37c-.4-.4-.92-.59-1.43-.59-.52 0-1.04.2-1.43.59L10.3 9.45l-7.72 7.72c-.78.78-.78 2.05 0 2.83L4 21.41c.39.39.9.59 1.41.59.51 0 1.02-.2 1.41-.59l7.78-7.78 2.81-2.81c.8-.78.8-2.07 0-2.86zM5.41 20L4 18.59l7.72-7.72 1.47 1.35L5.41 20z\"/>\n",
              "  </svg>\n",
              "      </button>\n",
              "      \n",
              "  <style>\n",
              "    .colab-df-container {\n",
              "      display:flex;\n",
              "      flex-wrap:wrap;\n",
              "      gap: 12px;\n",
              "    }\n",
              "\n",
              "    .colab-df-convert {\n",
              "      background-color: #E8F0FE;\n",
              "      border: none;\n",
              "      border-radius: 50%;\n",
              "      cursor: pointer;\n",
              "      display: none;\n",
              "      fill: #1967D2;\n",
              "      height: 32px;\n",
              "      padding: 0 0 0 0;\n",
              "      width: 32px;\n",
              "    }\n",
              "\n",
              "    .colab-df-convert:hover {\n",
              "      background-color: #E2EBFA;\n",
              "      box-shadow: 0px 1px 2px rgba(60, 64, 67, 0.3), 0px 1px 3px 1px rgba(60, 64, 67, 0.15);\n",
              "      fill: #174EA6;\n",
              "    }\n",
              "\n",
              "    [theme=dark] .colab-df-convert {\n",
              "      background-color: #3B4455;\n",
              "      fill: #D2E3FC;\n",
              "    }\n",
              "\n",
              "    [theme=dark] .colab-df-convert:hover {\n",
              "      background-color: #434B5C;\n",
              "      box-shadow: 0px 1px 3px 1px rgba(0, 0, 0, 0.15);\n",
              "      filter: drop-shadow(0px 1px 2px rgba(0, 0, 0, 0.3));\n",
              "      fill: #FFFFFF;\n",
              "    }\n",
              "  </style>\n",
              "\n",
              "      <script>\n",
              "        const buttonEl =\n",
              "          document.querySelector('#df-579b1040-7341-464d-800c-a71e7fd9bad8 button.colab-df-convert');\n",
              "        buttonEl.style.display =\n",
              "          google.colab.kernel.accessAllowed ? 'block' : 'none';\n",
              "\n",
              "        async function convertToInteractive(key) {\n",
              "          const element = document.querySelector('#df-579b1040-7341-464d-800c-a71e7fd9bad8');\n",
              "          const dataTable =\n",
              "            await google.colab.kernel.invokeFunction('convertToInteractive',\n",
              "                                                     [key], {});\n",
              "          if (!dataTable) return;\n",
              "\n",
              "          const docLinkHtml = 'Like what you see? Visit the ' +\n",
              "            '<a target=\"_blank\" href=https://colab.research.google.com/notebooks/data_table.ipynb>data table notebook</a>'\n",
              "            + ' to learn more about interactive tables.';\n",
              "          element.innerHTML = '';\n",
              "          dataTable['output_type'] = 'display_data';\n",
              "          await google.colab.output.renderOutput(dataTable, element);\n",
              "          const docLink = document.createElement('div');\n",
              "          docLink.innerHTML = docLinkHtml;\n",
              "          element.appendChild(docLink);\n",
              "        }\n",
              "      </script>\n",
              "    </div>\n",
              "  </div>\n",
              "  "
            ]
          },
          "metadata": {},
          "execution_count": 6
        }
      ],
      "source": [
        "train_dir = Path('/content/ECG_Image_data/train')\n",
        "\n",
        "filepaths = list(train_dir.glob(r'**/*.png'))\n",
        "labels = list(map(lambda x: os.path.split(os.path.split(x)[0])[1], filepaths))\n",
        "\n",
        "\n",
        "filepaths = pd.Series(filepaths, name='Filepath').astype(str)\n",
        "labels = pd.Series(labels, name='Label')\n",
        "\n",
        "dataframe = pd.concat([filepaths , labels] , axis=1)\n",
        "dataframe"
      ]
    },
    {
      "cell_type": "code",
      "execution_count": 7,
      "metadata": {
        "colab": {
          "base_uri": "https://localhost:8080/"
        },
        "id": "AU7Aydz6mWEQ",
        "outputId": "7f4858b9-3fb9-4a52-9d85-67c78cd6f010"
      },
      "outputs": [
        {
          "output_type": "execute_result",
          "data": {
            "text/plain": [
              "N    75709\n",
              "M     8405\n",
              "Q     6431\n",
              "V     5789\n",
              "S     2223\n",
              "F      642\n",
              "Name: Label, dtype: int64"
            ]
          },
          "metadata": {},
          "execution_count": 7
        }
      ],
      "source": [
        "dataframe['Label'].value_counts()"
      ]
    },
    {
      "cell_type": "code",
      "execution_count": 8,
      "metadata": {
        "colab": {
          "base_uri": "https://localhost:8080/"
        },
        "id": "Zv8SxrC1mgQ7",
        "outputId": "04280044-d509-4d76-b6fc-bb552c8efad8"
      },
      "outputs": [
        {
          "output_type": "execute_result",
          "data": {
            "text/plain": [
              "Q    640\n",
              "S    640\n",
              "N    640\n",
              "M    640\n",
              "F    640\n",
              "V    640\n",
              "Name: Label, dtype: int64"
            ]
          },
          "metadata": {},
          "execution_count": 8
        }
      ],
      "source": [
        "samples = []\n",
        "for category in dataframe['Label'].unique():\n",
        "    category_slice = dataframe.query(\"Label == @category\")\n",
        "    samples.append(category_slice.sample(640, random_state=1))\n",
        "\n",
        "dataframe_train = pd.concat(samples, axis=0).sample(frac=1.0, random_state=1).reset_index(drop=True)\n",
        "dataframe_train['Label'].value_counts()"
      ]
    },
    {
      "cell_type": "code",
      "execution_count": 9,
      "metadata": {
        "colab": {
          "base_uri": "https://localhost:8080/",
          "height": 424
        },
        "id": "e6vI3uK2miNM",
        "outputId": "99d6b4e2-8e9d-4ed3-9399-52be53d14163"
      },
      "outputs": [
        {
          "output_type": "execute_result",
          "data": {
            "text/plain": [
              "                                        Filepath Label\n",
              "0      /content/ECG_Image_data/train/Q/Q6407.png     Q\n",
              "1      /content/ECG_Image_data/train/S/S1238.png     S\n",
              "2     /content/ECG_Image_data/train/N/N10626.png     N\n",
              "3     /content/ECG_Image_data/train/N/N92838.png     N\n",
              "4      /content/ECG_Image_data/train/M/M8289.png     M\n",
              "...                                          ...   ...\n",
              "3835   /content/ECG_Image_data/train/N/N4068.png     N\n",
              "3836     /content/ECG_Image_data/train/F/F40.png     F\n",
              "3837    /content/ECG_Image_data/train/F/F799.png     F\n",
              "3838   /content/ECG_Image_data/train/Q/Q2081.png     Q\n",
              "3839    /content/ECG_Image_data/train/F/F263.png     F\n",
              "\n",
              "[3840 rows x 2 columns]"
            ],
            "text/html": [
              "\n",
              "  <div id=\"df-e02bfcad-5a04-4f8a-a71f-9d1129cd89df\">\n",
              "    <div class=\"colab-df-container\">\n",
              "      <div>\n",
              "<style scoped>\n",
              "    .dataframe tbody tr th:only-of-type {\n",
              "        vertical-align: middle;\n",
              "    }\n",
              "\n",
              "    .dataframe tbody tr th {\n",
              "        vertical-align: top;\n",
              "    }\n",
              "\n",
              "    .dataframe thead th {\n",
              "        text-align: right;\n",
              "    }\n",
              "</style>\n",
              "<table border=\"1\" class=\"dataframe\">\n",
              "  <thead>\n",
              "    <tr style=\"text-align: right;\">\n",
              "      <th></th>\n",
              "      <th>Filepath</th>\n",
              "      <th>Label</th>\n",
              "    </tr>\n",
              "  </thead>\n",
              "  <tbody>\n",
              "    <tr>\n",
              "      <th>0</th>\n",
              "      <td>/content/ECG_Image_data/train/Q/Q6407.png</td>\n",
              "      <td>Q</td>\n",
              "    </tr>\n",
              "    <tr>\n",
              "      <th>1</th>\n",
              "      <td>/content/ECG_Image_data/train/S/S1238.png</td>\n",
              "      <td>S</td>\n",
              "    </tr>\n",
              "    <tr>\n",
              "      <th>2</th>\n",
              "      <td>/content/ECG_Image_data/train/N/N10626.png</td>\n",
              "      <td>N</td>\n",
              "    </tr>\n",
              "    <tr>\n",
              "      <th>3</th>\n",
              "      <td>/content/ECG_Image_data/train/N/N92838.png</td>\n",
              "      <td>N</td>\n",
              "    </tr>\n",
              "    <tr>\n",
              "      <th>4</th>\n",
              "      <td>/content/ECG_Image_data/train/M/M8289.png</td>\n",
              "      <td>M</td>\n",
              "    </tr>\n",
              "    <tr>\n",
              "      <th>...</th>\n",
              "      <td>...</td>\n",
              "      <td>...</td>\n",
              "    </tr>\n",
              "    <tr>\n",
              "      <th>3835</th>\n",
              "      <td>/content/ECG_Image_data/train/N/N4068.png</td>\n",
              "      <td>N</td>\n",
              "    </tr>\n",
              "    <tr>\n",
              "      <th>3836</th>\n",
              "      <td>/content/ECG_Image_data/train/F/F40.png</td>\n",
              "      <td>F</td>\n",
              "    </tr>\n",
              "    <tr>\n",
              "      <th>3837</th>\n",
              "      <td>/content/ECG_Image_data/train/F/F799.png</td>\n",
              "      <td>F</td>\n",
              "    </tr>\n",
              "    <tr>\n",
              "      <th>3838</th>\n",
              "      <td>/content/ECG_Image_data/train/Q/Q2081.png</td>\n",
              "      <td>Q</td>\n",
              "    </tr>\n",
              "    <tr>\n",
              "      <th>3839</th>\n",
              "      <td>/content/ECG_Image_data/train/F/F263.png</td>\n",
              "      <td>F</td>\n",
              "    </tr>\n",
              "  </tbody>\n",
              "</table>\n",
              "<p>3840 rows × 2 columns</p>\n",
              "</div>\n",
              "      <button class=\"colab-df-convert\" onclick=\"convertToInteractive('df-e02bfcad-5a04-4f8a-a71f-9d1129cd89df')\"\n",
              "              title=\"Convert this dataframe to an interactive table.\"\n",
              "              style=\"display:none;\">\n",
              "        \n",
              "  <svg xmlns=\"http://www.w3.org/2000/svg\" height=\"24px\"viewBox=\"0 0 24 24\"\n",
              "       width=\"24px\">\n",
              "    <path d=\"M0 0h24v24H0V0z\" fill=\"none\"/>\n",
              "    <path d=\"M18.56 5.44l.94 2.06.94-2.06 2.06-.94-2.06-.94-.94-2.06-.94 2.06-2.06.94zm-11 1L8.5 8.5l.94-2.06 2.06-.94-2.06-.94L8.5 2.5l-.94 2.06-2.06.94zm10 10l.94 2.06.94-2.06 2.06-.94-2.06-.94-.94-2.06-.94 2.06-2.06.94z\"/><path d=\"M17.41 7.96l-1.37-1.37c-.4-.4-.92-.59-1.43-.59-.52 0-1.04.2-1.43.59L10.3 9.45l-7.72 7.72c-.78.78-.78 2.05 0 2.83L4 21.41c.39.39.9.59 1.41.59.51 0 1.02-.2 1.41-.59l7.78-7.78 2.81-2.81c.8-.78.8-2.07 0-2.86zM5.41 20L4 18.59l7.72-7.72 1.47 1.35L5.41 20z\"/>\n",
              "  </svg>\n",
              "      </button>\n",
              "      \n",
              "  <style>\n",
              "    .colab-df-container {\n",
              "      display:flex;\n",
              "      flex-wrap:wrap;\n",
              "      gap: 12px;\n",
              "    }\n",
              "\n",
              "    .colab-df-convert {\n",
              "      background-color: #E8F0FE;\n",
              "      border: none;\n",
              "      border-radius: 50%;\n",
              "      cursor: pointer;\n",
              "      display: none;\n",
              "      fill: #1967D2;\n",
              "      height: 32px;\n",
              "      padding: 0 0 0 0;\n",
              "      width: 32px;\n",
              "    }\n",
              "\n",
              "    .colab-df-convert:hover {\n",
              "      background-color: #E2EBFA;\n",
              "      box-shadow: 0px 1px 2px rgba(60, 64, 67, 0.3), 0px 1px 3px 1px rgba(60, 64, 67, 0.15);\n",
              "      fill: #174EA6;\n",
              "    }\n",
              "\n",
              "    [theme=dark] .colab-df-convert {\n",
              "      background-color: #3B4455;\n",
              "      fill: #D2E3FC;\n",
              "    }\n",
              "\n",
              "    [theme=dark] .colab-df-convert:hover {\n",
              "      background-color: #434B5C;\n",
              "      box-shadow: 0px 1px 3px 1px rgba(0, 0, 0, 0.15);\n",
              "      filter: drop-shadow(0px 1px 2px rgba(0, 0, 0, 0.3));\n",
              "      fill: #FFFFFF;\n",
              "    }\n",
              "  </style>\n",
              "\n",
              "      <script>\n",
              "        const buttonEl =\n",
              "          document.querySelector('#df-e02bfcad-5a04-4f8a-a71f-9d1129cd89df button.colab-df-convert');\n",
              "        buttonEl.style.display =\n",
              "          google.colab.kernel.accessAllowed ? 'block' : 'none';\n",
              "\n",
              "        async function convertToInteractive(key) {\n",
              "          const element = document.querySelector('#df-e02bfcad-5a04-4f8a-a71f-9d1129cd89df');\n",
              "          const dataTable =\n",
              "            await google.colab.kernel.invokeFunction('convertToInteractive',\n",
              "                                                     [key], {});\n",
              "          if (!dataTable) return;\n",
              "\n",
              "          const docLinkHtml = 'Like what you see? Visit the ' +\n",
              "            '<a target=\"_blank\" href=https://colab.research.google.com/notebooks/data_table.ipynb>data table notebook</a>'\n",
              "            + ' to learn more about interactive tables.';\n",
              "          element.innerHTML = '';\n",
              "          dataTable['output_type'] = 'display_data';\n",
              "          await google.colab.output.renderOutput(dataTable, element);\n",
              "          const docLink = document.createElement('div');\n",
              "          docLink.innerHTML = docLinkHtml;\n",
              "          element.appendChild(docLink);\n",
              "        }\n",
              "      </script>\n",
              "    </div>\n",
              "  </div>\n",
              "  "
            ]
          },
          "metadata": {},
          "execution_count": 9
        }
      ],
      "source": [
        "dataframe_train"
      ]
    },
    {
      "cell_type": "code",
      "execution_count": 10,
      "metadata": {
        "colab": {
          "base_uri": "https://localhost:8080/",
          "height": 424
        },
        "id": "DQCDB7KfmkCM",
        "outputId": "d29f6f41-fcfb-4b30-897c-d4317fda9ad0"
      },
      "outputs": [
        {
          "output_type": "execute_result",
          "data": {
            "text/plain": [
              "                                       Filepath Label\n",
              "0      /content/ECG_Image_data/test/Q/Q2513.png     Q\n",
              "1      /content/ECG_Image_data/test/Q/Q5854.png     Q\n",
              "2      /content/ECG_Image_data/test/Q/Q7493.png     Q\n",
              "3      /content/ECG_Image_data/test/Q/Q3968.png     Q\n",
              "4      /content/ECG_Image_data/test/Q/Q2804.png     Q\n",
              "...                                         ...   ...\n",
              "24794  /content/ECG_Image_data/test/M/M1245.png     M\n",
              "24795   /content/ECG_Image_data/test/M/M935.png     M\n",
              "24796   /content/ECG_Image_data/test/M/M646.png     M\n",
              "24797   /content/ECG_Image_data/test/M/M400.png     M\n",
              "24798  /content/ECG_Image_data/test/M/M1957.png     M\n",
              "\n",
              "[24799 rows x 2 columns]"
            ],
            "text/html": [
              "\n",
              "  <div id=\"df-09fbe861-91f0-4fbc-b81a-ac59d5e51040\">\n",
              "    <div class=\"colab-df-container\">\n",
              "      <div>\n",
              "<style scoped>\n",
              "    .dataframe tbody tr th:only-of-type {\n",
              "        vertical-align: middle;\n",
              "    }\n",
              "\n",
              "    .dataframe tbody tr th {\n",
              "        vertical-align: top;\n",
              "    }\n",
              "\n",
              "    .dataframe thead th {\n",
              "        text-align: right;\n",
              "    }\n",
              "</style>\n",
              "<table border=\"1\" class=\"dataframe\">\n",
              "  <thead>\n",
              "    <tr style=\"text-align: right;\">\n",
              "      <th></th>\n",
              "      <th>Filepath</th>\n",
              "      <th>Label</th>\n",
              "    </tr>\n",
              "  </thead>\n",
              "  <tbody>\n",
              "    <tr>\n",
              "      <th>0</th>\n",
              "      <td>/content/ECG_Image_data/test/Q/Q2513.png</td>\n",
              "      <td>Q</td>\n",
              "    </tr>\n",
              "    <tr>\n",
              "      <th>1</th>\n",
              "      <td>/content/ECG_Image_data/test/Q/Q5854.png</td>\n",
              "      <td>Q</td>\n",
              "    </tr>\n",
              "    <tr>\n",
              "      <th>2</th>\n",
              "      <td>/content/ECG_Image_data/test/Q/Q7493.png</td>\n",
              "      <td>Q</td>\n",
              "    </tr>\n",
              "    <tr>\n",
              "      <th>3</th>\n",
              "      <td>/content/ECG_Image_data/test/Q/Q3968.png</td>\n",
              "      <td>Q</td>\n",
              "    </tr>\n",
              "    <tr>\n",
              "      <th>4</th>\n",
              "      <td>/content/ECG_Image_data/test/Q/Q2804.png</td>\n",
              "      <td>Q</td>\n",
              "    </tr>\n",
              "    <tr>\n",
              "      <th>...</th>\n",
              "      <td>...</td>\n",
              "      <td>...</td>\n",
              "    </tr>\n",
              "    <tr>\n",
              "      <th>24794</th>\n",
              "      <td>/content/ECG_Image_data/test/M/M1245.png</td>\n",
              "      <td>M</td>\n",
              "    </tr>\n",
              "    <tr>\n",
              "      <th>24795</th>\n",
              "      <td>/content/ECG_Image_data/test/M/M935.png</td>\n",
              "      <td>M</td>\n",
              "    </tr>\n",
              "    <tr>\n",
              "      <th>24796</th>\n",
              "      <td>/content/ECG_Image_data/test/M/M646.png</td>\n",
              "      <td>M</td>\n",
              "    </tr>\n",
              "    <tr>\n",
              "      <th>24797</th>\n",
              "      <td>/content/ECG_Image_data/test/M/M400.png</td>\n",
              "      <td>M</td>\n",
              "    </tr>\n",
              "    <tr>\n",
              "      <th>24798</th>\n",
              "      <td>/content/ECG_Image_data/test/M/M1957.png</td>\n",
              "      <td>M</td>\n",
              "    </tr>\n",
              "  </tbody>\n",
              "</table>\n",
              "<p>24799 rows × 2 columns</p>\n",
              "</div>\n",
              "      <button class=\"colab-df-convert\" onclick=\"convertToInteractive('df-09fbe861-91f0-4fbc-b81a-ac59d5e51040')\"\n",
              "              title=\"Convert this dataframe to an interactive table.\"\n",
              "              style=\"display:none;\">\n",
              "        \n",
              "  <svg xmlns=\"http://www.w3.org/2000/svg\" height=\"24px\"viewBox=\"0 0 24 24\"\n",
              "       width=\"24px\">\n",
              "    <path d=\"M0 0h24v24H0V0z\" fill=\"none\"/>\n",
              "    <path d=\"M18.56 5.44l.94 2.06.94-2.06 2.06-.94-2.06-.94-.94-2.06-.94 2.06-2.06.94zm-11 1L8.5 8.5l.94-2.06 2.06-.94-2.06-.94L8.5 2.5l-.94 2.06-2.06.94zm10 10l.94 2.06.94-2.06 2.06-.94-2.06-.94-.94-2.06-.94 2.06-2.06.94z\"/><path d=\"M17.41 7.96l-1.37-1.37c-.4-.4-.92-.59-1.43-.59-.52 0-1.04.2-1.43.59L10.3 9.45l-7.72 7.72c-.78.78-.78 2.05 0 2.83L4 21.41c.39.39.9.59 1.41.59.51 0 1.02-.2 1.41-.59l7.78-7.78 2.81-2.81c.8-.78.8-2.07 0-2.86zM5.41 20L4 18.59l7.72-7.72 1.47 1.35L5.41 20z\"/>\n",
              "  </svg>\n",
              "      </button>\n",
              "      \n",
              "  <style>\n",
              "    .colab-df-container {\n",
              "      display:flex;\n",
              "      flex-wrap:wrap;\n",
              "      gap: 12px;\n",
              "    }\n",
              "\n",
              "    .colab-df-convert {\n",
              "      background-color: #E8F0FE;\n",
              "      border: none;\n",
              "      border-radius: 50%;\n",
              "      cursor: pointer;\n",
              "      display: none;\n",
              "      fill: #1967D2;\n",
              "      height: 32px;\n",
              "      padding: 0 0 0 0;\n",
              "      width: 32px;\n",
              "    }\n",
              "\n",
              "    .colab-df-convert:hover {\n",
              "      background-color: #E2EBFA;\n",
              "      box-shadow: 0px 1px 2px rgba(60, 64, 67, 0.3), 0px 1px 3px 1px rgba(60, 64, 67, 0.15);\n",
              "      fill: #174EA6;\n",
              "    }\n",
              "\n",
              "    [theme=dark] .colab-df-convert {\n",
              "      background-color: #3B4455;\n",
              "      fill: #D2E3FC;\n",
              "    }\n",
              "\n",
              "    [theme=dark] .colab-df-convert:hover {\n",
              "      background-color: #434B5C;\n",
              "      box-shadow: 0px 1px 3px 1px rgba(0, 0, 0, 0.15);\n",
              "      filter: drop-shadow(0px 1px 2px rgba(0, 0, 0, 0.3));\n",
              "      fill: #FFFFFF;\n",
              "    }\n",
              "  </style>\n",
              "\n",
              "      <script>\n",
              "        const buttonEl =\n",
              "          document.querySelector('#df-09fbe861-91f0-4fbc-b81a-ac59d5e51040 button.colab-df-convert');\n",
              "        buttonEl.style.display =\n",
              "          google.colab.kernel.accessAllowed ? 'block' : 'none';\n",
              "\n",
              "        async function convertToInteractive(key) {\n",
              "          const element = document.querySelector('#df-09fbe861-91f0-4fbc-b81a-ac59d5e51040');\n",
              "          const dataTable =\n",
              "            await google.colab.kernel.invokeFunction('convertToInteractive',\n",
              "                                                     [key], {});\n",
              "          if (!dataTable) return;\n",
              "\n",
              "          const docLinkHtml = 'Like what you see? Visit the ' +\n",
              "            '<a target=\"_blank\" href=https://colab.research.google.com/notebooks/data_table.ipynb>data table notebook</a>'\n",
              "            + ' to learn more about interactive tables.';\n",
              "          element.innerHTML = '';\n",
              "          dataTable['output_type'] = 'display_data';\n",
              "          await google.colab.output.renderOutput(dataTable, element);\n",
              "          const docLink = document.createElement('div');\n",
              "          docLink.innerHTML = docLinkHtml;\n",
              "          element.appendChild(docLink);\n",
              "        }\n",
              "      </script>\n",
              "    </div>\n",
              "  </div>\n",
              "  "
            ]
          },
          "metadata": {},
          "execution_count": 10
        }
      ],
      "source": [
        "test_dir = Path('/content/ECG_Image_data/test')\n",
        "\n",
        "filepaths = list(test_dir.glob(r'**/*.png'))\n",
        "labels = list(map(lambda x: os.path.split(os.path.split(x)[0])[1], filepaths))\n",
        "\n",
        "filepaths = pd.Series(filepaths, name='Filepath').astype(str)\n",
        "labels = pd.Series(labels, name='Label')\n",
        "\n",
        "dataframe_test = pd.concat([filepaths , labels] , axis=1)\n",
        "dataframe_test"
      ]
    },
    {
      "cell_type": "code",
      "execution_count": 11,
      "metadata": {
        "colab": {
          "base_uri": "https://localhost:8080/"
        },
        "id": "T3-p_casmmIy",
        "outputId": "daee9ef2-ad95-440a-d07a-b3e3b155dc4a"
      },
      "outputs": [
        {
          "output_type": "execute_result",
          "data": {
            "text/plain": [
              "N    18926\n",
              "M     2101\n",
              "Q     1608\n",
              "V     1447\n",
              "S      556\n",
              "F      161\n",
              "Name: Label, dtype: int64"
            ]
          },
          "metadata": {},
          "execution_count": 11
        }
      ],
      "source": [
        "dataframe_test['Label'].value_counts()"
      ]
    },
    {
      "cell_type": "code",
      "execution_count": 12,
      "metadata": {
        "colab": {
          "base_uri": "https://localhost:8080/"
        },
        "id": "WOVVdtiTmoDW",
        "outputId": "2c8b097b-4cd8-4920-e6cc-917caa6177ad"
      },
      "outputs": [
        {
          "output_type": "execute_result",
          "data": {
            "text/plain": [
              "F    160\n",
              "M    160\n",
              "S    160\n",
              "Q    160\n",
              "V    160\n",
              "N    160\n",
              "Name: Label, dtype: int64"
            ]
          },
          "metadata": {},
          "execution_count": 12
        }
      ],
      "source": [
        "samples = []\n",
        "for category in dataframe_test['Label'].unique():\n",
        "    category_slice = dataframe_test.query(\"Label == @category\")\n",
        "    samples.append(category_slice.sample(160, random_state=1))\n",
        "\n",
        "dataframe_test = pd.concat(samples, axis=0).sample(frac=1.0, random_state=1).reset_index(drop=True)\n",
        "dataframe_test['Label'].value_counts()"
      ]
    },
    {
      "cell_type": "code",
      "execution_count": 13,
      "metadata": {
        "colab": {
          "base_uri": "https://localhost:8080/",
          "height": 424
        },
        "id": "OGeDjONrmp9B",
        "outputId": "7ad0a6db-fd49-4df4-bdaf-13ff839f6d7f"
      },
      "outputs": [
        {
          "output_type": "execute_result",
          "data": {
            "text/plain": [
              "                                      Filepath Label\n",
              "0      /content/ECG_Image_data/test/F/F309.png     F\n",
              "1     /content/ECG_Image_data/test/M/M1867.png     M\n",
              "2     /content/ECG_Image_data/test/S/S1423.png     S\n",
              "3     /content/ECG_Image_data/test/S/S1021.png     S\n",
              "4     /content/ECG_Image_data/test/S/S2257.png     S\n",
              "..                                         ...   ...\n",
              "955  /content/ECG_Image_data/test/N/N26117.png     N\n",
              "956    /content/ECG_Image_data/test/Q/Q119.png     Q\n",
              "957   /content/ECG_Image_data/test/M/M1906.png     M\n",
              "958    /content/ECG_Image_data/test/F/F184.png     F\n",
              "959   /content/ECG_Image_data/test/Q/Q1830.png     Q\n",
              "\n",
              "[960 rows x 2 columns]"
            ],
            "text/html": [
              "\n",
              "  <div id=\"df-8da081b2-7d04-4bc0-b79b-81563e85d998\">\n",
              "    <div class=\"colab-df-container\">\n",
              "      <div>\n",
              "<style scoped>\n",
              "    .dataframe tbody tr th:only-of-type {\n",
              "        vertical-align: middle;\n",
              "    }\n",
              "\n",
              "    .dataframe tbody tr th {\n",
              "        vertical-align: top;\n",
              "    }\n",
              "\n",
              "    .dataframe thead th {\n",
              "        text-align: right;\n",
              "    }\n",
              "</style>\n",
              "<table border=\"1\" class=\"dataframe\">\n",
              "  <thead>\n",
              "    <tr style=\"text-align: right;\">\n",
              "      <th></th>\n",
              "      <th>Filepath</th>\n",
              "      <th>Label</th>\n",
              "    </tr>\n",
              "  </thead>\n",
              "  <tbody>\n",
              "    <tr>\n",
              "      <th>0</th>\n",
              "      <td>/content/ECG_Image_data/test/F/F309.png</td>\n",
              "      <td>F</td>\n",
              "    </tr>\n",
              "    <tr>\n",
              "      <th>1</th>\n",
              "      <td>/content/ECG_Image_data/test/M/M1867.png</td>\n",
              "      <td>M</td>\n",
              "    </tr>\n",
              "    <tr>\n",
              "      <th>2</th>\n",
              "      <td>/content/ECG_Image_data/test/S/S1423.png</td>\n",
              "      <td>S</td>\n",
              "    </tr>\n",
              "    <tr>\n",
              "      <th>3</th>\n",
              "      <td>/content/ECG_Image_data/test/S/S1021.png</td>\n",
              "      <td>S</td>\n",
              "    </tr>\n",
              "    <tr>\n",
              "      <th>4</th>\n",
              "      <td>/content/ECG_Image_data/test/S/S2257.png</td>\n",
              "      <td>S</td>\n",
              "    </tr>\n",
              "    <tr>\n",
              "      <th>...</th>\n",
              "      <td>...</td>\n",
              "      <td>...</td>\n",
              "    </tr>\n",
              "    <tr>\n",
              "      <th>955</th>\n",
              "      <td>/content/ECG_Image_data/test/N/N26117.png</td>\n",
              "      <td>N</td>\n",
              "    </tr>\n",
              "    <tr>\n",
              "      <th>956</th>\n",
              "      <td>/content/ECG_Image_data/test/Q/Q119.png</td>\n",
              "      <td>Q</td>\n",
              "    </tr>\n",
              "    <tr>\n",
              "      <th>957</th>\n",
              "      <td>/content/ECG_Image_data/test/M/M1906.png</td>\n",
              "      <td>M</td>\n",
              "    </tr>\n",
              "    <tr>\n",
              "      <th>958</th>\n",
              "      <td>/content/ECG_Image_data/test/F/F184.png</td>\n",
              "      <td>F</td>\n",
              "    </tr>\n",
              "    <tr>\n",
              "      <th>959</th>\n",
              "      <td>/content/ECG_Image_data/test/Q/Q1830.png</td>\n",
              "      <td>Q</td>\n",
              "    </tr>\n",
              "  </tbody>\n",
              "</table>\n",
              "<p>960 rows × 2 columns</p>\n",
              "</div>\n",
              "      <button class=\"colab-df-convert\" onclick=\"convertToInteractive('df-8da081b2-7d04-4bc0-b79b-81563e85d998')\"\n",
              "              title=\"Convert this dataframe to an interactive table.\"\n",
              "              style=\"display:none;\">\n",
              "        \n",
              "  <svg xmlns=\"http://www.w3.org/2000/svg\" height=\"24px\"viewBox=\"0 0 24 24\"\n",
              "       width=\"24px\">\n",
              "    <path d=\"M0 0h24v24H0V0z\" fill=\"none\"/>\n",
              "    <path d=\"M18.56 5.44l.94 2.06.94-2.06 2.06-.94-2.06-.94-.94-2.06-.94 2.06-2.06.94zm-11 1L8.5 8.5l.94-2.06 2.06-.94-2.06-.94L8.5 2.5l-.94 2.06-2.06.94zm10 10l.94 2.06.94-2.06 2.06-.94-2.06-.94-.94-2.06-.94 2.06-2.06.94z\"/><path d=\"M17.41 7.96l-1.37-1.37c-.4-.4-.92-.59-1.43-.59-.52 0-1.04.2-1.43.59L10.3 9.45l-7.72 7.72c-.78.78-.78 2.05 0 2.83L4 21.41c.39.39.9.59 1.41.59.51 0 1.02-.2 1.41-.59l7.78-7.78 2.81-2.81c.8-.78.8-2.07 0-2.86zM5.41 20L4 18.59l7.72-7.72 1.47 1.35L5.41 20z\"/>\n",
              "  </svg>\n",
              "      </button>\n",
              "      \n",
              "  <style>\n",
              "    .colab-df-container {\n",
              "      display:flex;\n",
              "      flex-wrap:wrap;\n",
              "      gap: 12px;\n",
              "    }\n",
              "\n",
              "    .colab-df-convert {\n",
              "      background-color: #E8F0FE;\n",
              "      border: none;\n",
              "      border-radius: 50%;\n",
              "      cursor: pointer;\n",
              "      display: none;\n",
              "      fill: #1967D2;\n",
              "      height: 32px;\n",
              "      padding: 0 0 0 0;\n",
              "      width: 32px;\n",
              "    }\n",
              "\n",
              "    .colab-df-convert:hover {\n",
              "      background-color: #E2EBFA;\n",
              "      box-shadow: 0px 1px 2px rgba(60, 64, 67, 0.3), 0px 1px 3px 1px rgba(60, 64, 67, 0.15);\n",
              "      fill: #174EA6;\n",
              "    }\n",
              "\n",
              "    [theme=dark] .colab-df-convert {\n",
              "      background-color: #3B4455;\n",
              "      fill: #D2E3FC;\n",
              "    }\n",
              "\n",
              "    [theme=dark] .colab-df-convert:hover {\n",
              "      background-color: #434B5C;\n",
              "      box-shadow: 0px 1px 3px 1px rgba(0, 0, 0, 0.15);\n",
              "      filter: drop-shadow(0px 1px 2px rgba(0, 0, 0, 0.3));\n",
              "      fill: #FFFFFF;\n",
              "    }\n",
              "  </style>\n",
              "\n",
              "      <script>\n",
              "        const buttonEl =\n",
              "          document.querySelector('#df-8da081b2-7d04-4bc0-b79b-81563e85d998 button.colab-df-convert');\n",
              "        buttonEl.style.display =\n",
              "          google.colab.kernel.accessAllowed ? 'block' : 'none';\n",
              "\n",
              "        async function convertToInteractive(key) {\n",
              "          const element = document.querySelector('#df-8da081b2-7d04-4bc0-b79b-81563e85d998');\n",
              "          const dataTable =\n",
              "            await google.colab.kernel.invokeFunction('convertToInteractive',\n",
              "                                                     [key], {});\n",
              "          if (!dataTable) return;\n",
              "\n",
              "          const docLinkHtml = 'Like what you see? Visit the ' +\n",
              "            '<a target=\"_blank\" href=https://colab.research.google.com/notebooks/data_table.ipynb>data table notebook</a>'\n",
              "            + ' to learn more about interactive tables.';\n",
              "          element.innerHTML = '';\n",
              "          dataTable['output_type'] = 'display_data';\n",
              "          await google.colab.output.renderOutput(dataTable, element);\n",
              "          const docLink = document.createElement('div');\n",
              "          docLink.innerHTML = docLinkHtml;\n",
              "          element.appendChild(docLink);\n",
              "        }\n",
              "      </script>\n",
              "    </div>\n",
              "  </div>\n",
              "  "
            ]
          },
          "metadata": {},
          "execution_count": 13
        }
      ],
      "source": [
        "dataframe_test"
      ]
    },
    {
      "cell_type": "code",
      "execution_count": 14,
      "metadata": {
        "colab": {
          "base_uri": "https://localhost:8080/",
          "height": 269
        },
        "id": "69QEZoU_mrxC",
        "outputId": "162345b0-fe11-4104-eddd-554de99667f2"
      },
      "outputs": [
        {
          "output_type": "display_data",
          "data": {
            "text/plain": [
              "<Figure size 432x288 with 1 Axes>"
            ],
            "image/png": "[encoded data removed]"
          },
          "metadata": {
            "needs_background": "light"
          }
        }
      ],
      "source": [
        "from keras.utils import img_to_array,load_img\n",
        "img = load_img(dataframe_test['Filepath'].values[1])\n",
        "plt.imshow(img)\n",
        "plt.axis(\"on\")\n",
        "plt.show()"
      ]
    },
    {
      "cell_type": "code",
      "execution_count": 15,
      "metadata": {
        "colab": {
          "base_uri": "https://localhost:8080/"
        },
        "id": "eQxBAmMJmvI9",
        "outputId": "2ad06ad4-c6d2-403b-c225-72473315bca1"
      },
      "outputs": [
        {
          "output_type": "stream",
          "name": "stdout",
          "text": [
            "(288, 432, 3)\n"
          ]
        }
      ],
      "source": [
        "array_image = img_to_array(img)\n",
        "print(array_image.shape)"
      ]
    },
    {
      "cell_type": "code",
      "execution_count": 16,
      "metadata": {
        "id": "oQkLjcuLmx1L"
      },
      "outputs": [],
      "source": [
        "'''train_generator2 = tf.keras.preprocessing.image.ImageDataGenerator(\n",
        "    preprocessing_function=tf.keras.applications.vgg16.preprocess_input,\n",
        "    rescale=1./255,\n",
        "    validation_split=0.2\n",
        "  \n",
        ")\n",
        "\n",
        "test_generator2 = tf.keras.preprocessing.image.ImageDataGenerator(\n",
        "    preprocessing_function=tf.keras.applications.vgg16.preprocess_input,\n",
        "    rescale=1./255,\n",
        ")'''\n",
        "train_datagen = ImageDataGenerator(rescale= 1./255,\n",
        "                   shear_range = 0.2,\n",
        "                   horizontal_flip=True,\n",
        "                   zoom_range = 0.2,\n",
        "                   validation_split=0.2)\n",
        "\n",
        "test_datagen = ImageDataGenerator(rescale= 1./255)"
      ]
    },
    {
      "cell_type": "code",
      "execution_count": 17,
      "metadata": {
        "colab": {
          "base_uri": "https://localhost:8080/"
        },
        "id": "vBZkCIctojtQ",
        "outputId": "a340deb5-e8f9-42b2-8a5b-7b8f9795ee85"
      },
      "outputs": [
        {
          "output_type": "stream",
          "name": "stdout",
          "text": [
            "Found 79362 images belonging to 6 classes.\n",
            "Found 19837 images belonging to 6 classes.\n",
            "Found 24799 images belonging to 6 classes.\n"
          ]
        }
      ],
      "source": [
        "'''train_images = train_generator2.flow_from_dataframe(\n",
        "    dataframe=dataframe_train,\n",
        "    x_col='Filepath',\n",
        "    y_col='Label',\n",
        "    target_size=(224, 224),\n",
        "    color_mode='rgb',\n",
        "    class_mode='categorical',\n",
        "    batch_size=32,\n",
        "    shuffle=True,\n",
        "    seed=42,\n",
        "    subset='training'\n",
        ")\n",
        "\n",
        "val_images = train_generator2.flow_from_dataframe(\n",
        "    dataframe=dataframe_train,\n",
        "    x_col='Filepath',\n",
        "    y_col='Label',\n",
        "    target_size=(224, 224),\n",
        "    color_mode='rgb',\n",
        "    class_mode='categorical',\n",
        "    batch_size=32,\n",
        "    shuffle=True,\n",
        "    seed=42,\n",
        "    subset='validation'\n",
        ")\n",
        "\n",
        "test_images = test_generator2.flow_from_dataframe(\n",
        "    dataframe=dataframe_test,\n",
        "    x_col='Filepath',\n",
        "    y_col='Label',\n",
        "    target_size=(224, 224),\n",
        "    color_mode='rgb',\n",
        "    class_mode='categorical',\n",
        "    batch_size=32,\n",
        "    shuffle=False\n",
        ")'''\n",
        "train_generator = train_datagen.flow_from_directory(\n",
        "        train_dir, \n",
        "        target_size= (224,224),\n",
        "        batch_size = 32,\n",
        "        color_mode= \"rgb\",\n",
        "        subset='training',\n",
        "        class_mode= \"categorical\")\n",
        "val_generator = train_datagen.flow_from_directory(\n",
        "        train_dir, \n",
        "        target_size= (224,224),\n",
        "        batch_size = 32,\n",
        "        color_mode= \"rgb\",\n",
        "        subset='validation',\n",
        "        class_mode= \"categorical\")\n",
        "test_generator = test_datagen.flow_from_directory(\n",
        "        test_dir, \n",
        "        target_size= (224,224),\n",
        "        batch_size = 32,\n",
        "        color_mode= \"rgb\",\n",
        "        class_mode= \"categorical\")"
      ]
    },
    {
      "cell_type": "code",
      "execution_count": 18,
      "metadata": {
        "id": "5JNXVjUQot2f",
        "colab": {
          "base_uri": "https://localhost:8080/"
        },
        "outputId": "3e79ec9e-6a69-43dd-d438-5a9768e58411"
      },
      "outputs": [
        {
          "output_type": "stream",
          "name": "stdout",
          "text": [
            "Downloading data from https://storage.googleapis.com/tensorflow/keras-applications/vgg19/vgg19_weights_tf_dim_ordering_tf_kernels_notop.h5\n",
            "80134624/80134624 [==============================] - 3s 0us/step\n"
          ]
        }
      ],
      "source": [
        "'''from tensorflow.keras.applications.vgg16 import VGG16\n",
        "\n",
        "pretrained_model2 = VGG16(\n",
        "                          input_shape=(224,224,3),\n",
        "                          include_top= False,\n",
        "                          weights='imagenet',\n",
        "                          pooling='avg'\n",
        "                          )\n",
        "\n",
        "pretrained_model2.trainable = False'''\n",
        "IMAGE_SIZE = [224, 224]\n",
        "vgg = VGG19(input_shape=IMAGE_SIZE + [3], weights='imagenet', include_top=False)"
      ]
    },
    {
      "cell_type": "code",
      "source": [
        "for layer in vgg.layers:\n",
        "  layer.trainable = False"
      ],
      "metadata": {
        "id": "gEGDxQW0ZveH"
      },
      "execution_count": 19,
      "outputs": []
    },
    {
      "cell_type": "code",
      "source": [
        "x2 = Flatten()(vgg.output)"
      ],
      "metadata": {
        "id": "8p6NfRYsZxHU"
      },
      "execution_count": 20,
      "outputs": []
    },
    {
      "cell_type": "code",
      "source": [
        "folders=glob('/content/ECG_Image_data/test/*')\n",
        "folders"
      ],
      "metadata": {
        "colab": {
          "base_uri": "https://localhost:8080/"
        },
        "id": "SFVrzh5BtK6e",
        "outputId": "e7ff6f8f-4da3-47e2-fba1-5cc3c82d3b51"
      },
      "execution_count": 21,
      "outputs": [
        {
          "output_type": "execute_result",
          "data": {
            "text/plain": [
              "['/content/ECG_Image_data/test/Q',\n",
              " '/content/ECG_Image_data/test/F',\n",
              " '/content/ECG_Image_data/test/S',\n",
              " '/content/ECG_Image_data/test/V',\n",
              " '/content/ECG_Image_data/test/N',\n",
              " '/content/ECG_Image_data/test/M']"
            ]
          },
          "metadata": {},
          "execution_count": 21
        }
      ]
    },
    {
      "cell_type": "code",
      "source": [
        "prediction2 = Dense(len(folders), activation='softmax')(x2)"
      ],
      "metadata": {
        "id": "Qr-83L49ZyzR"
      },
      "execution_count": 22,
      "outputs": []
    },
    {
      "cell_type": "code",
      "execution_count": 23,
      "metadata": {
        "colab": {
          "base_uri": "https://localhost:8080/"
        },
        "id": "uvE8BG_zo1KB",
        "outputId": "97dc7801-fa3a-4229-cd61-cd10594eb050"
      },
      "outputs": [
        {
          "output_type": "stream",
          "name": "stdout",
          "text": [
            "Model: \"model\"\n",
            "_________________________________________________________________\n",
            " Layer (type)                Output Shape              Param #   \n",
            "=================================================================\n",
            " input_1 (InputLayer)        [(None, 224, 224, 3)]     0         \n",
            "                                                                 \n",
            " block1_conv1 (Conv2D)       (None, 224, 224, 64)      1792      \n",
            "                                                                 \n",
            " block1_conv2 (Conv2D)       (None, 224, 224, 64)      36928     \n",
            "                                                                 \n",
            " block1_pool (MaxPooling2D)  (None, 112, 112, 64)      0         \n",
            "                                                                 \n",
            " block2_conv1 (Conv2D)       (None, 112, 112, 128)     73856     \n",
            "                                                                 \n",
            " block2_conv2 (Conv2D)       (None, 112, 112, 128)     147584    \n",
            "                                                                 \n",
            " block2_pool (MaxPooling2D)  (None, 56, 56, 128)       0         \n",
            "                                                                 \n",
            " block3_conv1 (Conv2D)       (None, 56, 56, 256)       295168    \n",
            "                                                                 \n",
            " block3_conv2 (Conv2D)       (None, 56, 56, 256)       590080    \n",
            "                                                                 \n",
            " block3_conv3 (Conv2D)       (None, 56, 56, 256)       590080    \n",
            "                                                                 \n",
            " block3_conv4 (Conv2D)       (None, 56, 56, 256)       590080    \n",
            "                                                                 \n",
            " block3_pool (MaxPooling2D)  (None, 28, 28, 256)       0         \n",
            "                                                                 \n",
            " block4_conv1 (Conv2D)       (None, 28, 28, 512)       1180160   \n",
            "                                                                 \n",
            " block4_conv2 (Conv2D)       (None, 28, 28, 512)       2359808   \n",
            "                                                                 \n",
            " block4_conv3 (Conv2D)       (None, 28, 28, 512)       2359808   \n",
            "                                                                 \n",
            " block4_conv4 (Conv2D)       (None, 28, 28, 512)       2359808   \n",
            "                                                                 \n",
            " block4_pool (MaxPooling2D)  (None, 14, 14, 512)       0         \n",
            "                                                                 \n",
            " block5_conv1 (Conv2D)       (None, 14, 14, 512)       2359808   \n",
            "                                                                 \n",
            " block5_conv2 (Conv2D)       (None, 14, 14, 512)       2359808   \n",
            "                                                                 \n",
            " block5_conv3 (Conv2D)       (None, 14, 14, 512)       2359808   \n",
            "                                                                 \n",
            " block5_conv4 (Conv2D)       (None, 14, 14, 512)       2359808   \n",
            "                                                                 \n",
            " block5_pool (MaxPooling2D)  (None, 7, 7, 512)         0         \n",
            "                                                                 \n",
            " flatten (Flatten)           (None, 25088)             0         \n",
            "                                                                 \n",
            " dense (Dense)               (None, 6)                 150534    \n",
            "                                                                 \n",
            "=================================================================\n",
            "Total params: 20,174,918\n",
            "Trainable params: 150,534\n",
            "Non-trainable params: 20,024,384\n",
            "_________________________________________________________________\n"
          ]
        }
      ],
      "source": [
        "'''vgg_model = Sequential ([\n",
        "                        pretrained_model2,\n",
        "                        Flatten(),\n",
        "                        Dropout(0.2),\n",
        "                        Dense(128, activation='relu'),\n",
        "                        Dense(64, activation='relu'),\n",
        "                        Dense(6, activation='softmax')\n",
        "                    ])'''\n",
        "vgg_model = Model(inputs=vgg.input, outputs=prediction2)\n",
        "\n",
        "vgg_model.summary()"
      ]
    },
    {
      "cell_type": "code",
      "source": [
        "vgg_model.compile(\n",
        "    optimizer='adam',\n",
        "    loss='categorical_crossentropy',\n",
        "    metrics=['accuracy']\n",
        ")"
      ],
      "metadata": {
        "id": "qlhWsx5SUSYi"
      },
      "execution_count": 24,
      "outputs": []
    },
    {
      "cell_type": "code",
      "execution_count": 25,
      "metadata": {
        "id": "09sF7-FGo7_x"
      },
      "outputs": [],
      "source": [
        "\n",
        "import keras\n",
        "checkpoint = keras.callbacks.ModelCheckpoint(\n",
        "    filepath='best_model.h5',\n",
        "    save_weights_only=False,\n",
        "    monitor='val_accuracy',\n",
        "    mode='max',\n",
        "    save_best_only=True,\n",
        "    verbose=1)\n"
      ]
    },
    {
      "cell_type": "code",
      "execution_count": 27,
      "metadata": {
        "colab": {
          "base_uri": "https://localhost:8080/"
        },
        "id": "-2zptlyzpVyv",
        "outputId": "777169e8-ca92-41a3-9123-c63b2f427dbb"
      },
      "outputs": [
        {
          "metadata": {
            "tags": null
          },
          "name": "stderr",
          "output_type": "stream",
          "text": [
            "<ipython-input-27-142a92ce4644>:1: UserWarning: `Model.fit_generator` is deprecated and will be removed in a future version. Please use `Model.fit`, which supports generators.\n",
            "  history=vgg_model.fit_generator(\n"
          ]
        },
        {
          "output_type": "stream",
          "name": "stdout",
          "text": [
            "Epoch 1/15\n",
            "1240/1240 [==============================] - ETA: 0s - loss: 0.0150 - accuracy: 0.9955\n",
            "Epoch 1: val_accuracy improved from -inf to 0.99889, saving model to best_model.h5\n",
            "1240/1240 [==============================] - 659s 532ms/step - loss: 0.0150 - accuracy: 0.9955 - val_loss: 0.0045 - val_accuracy: 0.9989\n",
            "Epoch 2/15\n",
            "1240/1240 [==============================] - ETA: 0s - loss: 0.0137 - accuracy: 0.9955\n",
            "Epoch 2: val_accuracy did not improve from 0.99889\n",
            "1240/1240 [==============================] - 654s 527ms/step - loss: 0.0137 - accuracy: 0.9955 - val_loss: 0.0133 - val_accuracy: 0.9956\n",
            "Epoch 3/15\n",
            "1240/1240 [==============================] - ETA: 0s - loss: 0.0033 - accuracy: 0.9988\n",
            "Epoch 3: val_accuracy improved from 0.99889 to 0.99970, saving model to best_model.h5\n",
            "1240/1240 [==============================] - 640s 516ms/step - loss: 0.0033 - accuracy: 0.9988 - val_loss: 7.2404e-04 - val_accuracy: 0.9997\n",
            "Epoch 4/15\n",
            "1240/1240 [==============================] - ETA: 0s - loss: 0.0137 - accuracy: 0.9968\n",
            "Epoch 4: val_accuracy did not improve from 0.99970\n",
            "1240/1240 [==============================] - 644s 519ms/step - loss: 0.0137 - accuracy: 0.9968 - val_loss: 0.0017 - val_accuracy: 0.9996\n",
            "Epoch 5/15\n",
            "1240/1240 [==============================] - ETA: 0s - loss: 0.0047 - accuracy: 0.9987\n",
            "Epoch 5: val_accuracy did not improve from 0.99970\n",
            "1240/1240 [==============================] - 643s 518ms/step - loss: 0.0047 - accuracy: 0.9987 - val_loss: 0.0076 - val_accuracy: 0.9984\n",
            "Epoch 6/15\n",
            "1240/1240 [==============================] - ETA: 0s - loss: 0.0095 - accuracy: 0.9976\n",
            "Epoch 6: val_accuracy did not improve from 0.99970\n",
            "1240/1240 [==============================] - 640s 516ms/step - loss: 0.0095 - accuracy: 0.9976 - val_loss: 0.0379 - val_accuracy: 0.9931\n",
            "Epoch 7/15\n",
            "1240/1240 [==============================] - ETA: 0s - loss: 0.0072 - accuracy: 0.9982\n",
            "Epoch 7: val_accuracy did not improve from 0.99970\n",
            "1240/1240 [==============================] - 642s 518ms/step - loss: 0.0072 - accuracy: 0.9982 - val_loss: 0.0108 - val_accuracy: 0.9977\n",
            "Epoch 8/15\n",
            "1240/1240 [==============================] - ETA: 0s - loss: 0.0077 - accuracy: 0.9981\n",
            "Epoch 8: val_accuracy did not improve from 0.99970\n",
            "1240/1240 [==============================] - 635s 512ms/step - loss: 0.0077 - accuracy: 0.9981 - val_loss: 0.0010 - val_accuracy: 0.9997\n",
            "Epoch 9/15\n",
            "1240/1240 [==============================] - ETA: 0s - loss: 0.0071 - accuracy: 0.9984\n",
            "Epoch 9: val_accuracy did not improve from 0.99970\n",
            "1240/1240 [==============================] - 634s 511ms/step - loss: 0.0071 - accuracy: 0.9984 - val_loss: 0.0136 - val_accuracy: 0.9963\n",
            "Epoch 10/15\n",
            "1240/1240 [==============================] - ETA: 0s - loss: 0.0062 - accuracy: 0.9989\n",
            "Epoch 10: val_accuracy did not improve from 0.99970\n",
            "1240/1240 [==============================] - 634s 511ms/step - loss: 0.0062 - accuracy: 0.9989 - val_loss: 0.0076 - val_accuracy: 0.9984\n",
            "Epoch 11/15\n",
            "1240/1240 [==============================] - ETA: 0s - loss: 0.0053 - accuracy: 0.9989\n",
            "Epoch 11: val_accuracy improved from 0.99970 to 0.99980, saving model to best_model.h5\n",
            "1240/1240 [==============================] - 633s 511ms/step - loss: 0.0053 - accuracy: 0.9989 - val_loss: 0.0029 - val_accuracy: 0.9998\n",
            "Epoch 12/15\n",
            "1240/1240 [==============================] - ETA: 0s - loss: 0.0055 - accuracy: 0.9990\n",
            "Epoch 12: val_accuracy did not improve from 0.99980\n",
            "1240/1240 [==============================] - 634s 511ms/step - loss: 0.0055 - accuracy: 0.9990 - val_loss: 0.0018 - val_accuracy: 0.9996\n",
            "Epoch 13/15\n",
            "1240/1240 [==============================] - ETA: 0s - loss: 0.0032 - accuracy: 0.9993\n",
            "Epoch 13: val_accuracy improved from 0.99980 to 0.99990, saving model to best_model.h5\n",
            "1240/1240 [==============================] - 631s 509ms/step - loss: 0.0032 - accuracy: 0.9993 - val_loss: 1.6741e-04 - val_accuracy: 0.9999\n",
            "Epoch 14/15\n",
            "1240/1240 [==============================] - ETA: 0s - loss: 0.0040 - accuracy: 0.9993\n",
            "Epoch 14: val_accuracy did not improve from 0.99990\n",
            "1240/1240 [==============================] - 635s 512ms/step - loss: 0.0040 - accuracy: 0.9993 - val_loss: 0.0034 - val_accuracy: 0.9995\n",
            "Epoch 15/15\n",
            "1240/1240 [==============================] - ETA: 0s - loss: 0.0065 - accuracy: 0.9991\n",
            "Epoch 15: val_accuracy did not improve from 0.99990\n",
            "1240/1240 [==============================] - 639s 515ms/step - loss: 0.0065 - accuracy: 0.9991 - val_loss: 0.0021 - val_accuracy: 0.9996\n"
          ]
        }
      ],
      "source": [
        "history=vgg_model.fit_generator(\n",
        "    train_generator,\n",
        "    steps_per_epoch=train_generator.samples//64, #len(train_generator),\n",
        "    validation_data=val_generator,\n",
        "    validation_steps=val_generator.samples//64, #len(val_generator),\n",
        "    epochs=15,\n",
        "    callbacks=[checkpoint]\n",
        ")"
      ]
    },
    {
      "cell_type": "code",
      "execution_count": 28,
      "metadata": {
        "id": "d6iS8GB_pbZU",
        "colab": {
          "base_uri": "https://localhost:8080/"
        },
        "outputId": "14c1d90a-3415-41a0-ad16-8e245a5c247d"
      },
      "outputs": [
        {
          "output_type": "stream",
          "name": "stdout",
          "text": [
            "    Test Loss: 0.00003\n",
            "Test Accuracy: 100.00%\n"
          ]
        }
      ],
      "source": [
        "from keras.models import load_model\n",
        "best_model=load_model('best_model.h5')\n",
        "results = best_model.evaluate(test_generator, verbose=0)\n",
        "\n",
        "print(\"    Test Loss: {:.5f}\".format(results[0]))\n",
        "print(\"Test Accuracy: {:.2f}%\".format(results[1] * 100))"
      ]
    },
    {
      "cell_type": "code",
      "source": [
        "plt.plot(history.history['loss'])\n",
        "plt.plot(history.history['val_loss'])\n",
        "plt.legend(['Training', 'Validation'])\n",
        "plt.title('Training and Validation accuracy')\n",
        "plt.xlabel('epoch')\n",
        "plt.ylabel('accuracy')"
      ],
      "metadata": {
        "id": "Te4iJlZGaNTt",
        "colab": {
          "base_uri": "https://localhost:8080/",
          "height": 313
        },
        "outputId": "a07ae925-6c61-426c-9fcb-aa820c455794"
      },
      "execution_count": 29,
      "outputs": [
        {
          "output_type": "execute_result",
          "data": {
            "text/plain": [
              "Text(0, 0.5, 'accuracy')"
            ]
          },
          "metadata": {},
          "execution_count": 29
        },
        {
          "output_type": "display_data",
          "data": {
            "text/plain": [
              "<Figure size 432x288 with 1 Axes>"
            ],
            "image/png": "[encoded data removed]"
          },
          "metadata": {
            "needs_background": "light"
          }
        }
      ]
    },
    {
      "cell_type": "code",
      "source": [
        "plt.plot(history.history['accuracy'])\n",
        "plt.plot(history.history['val_accuracy'])\n",
        "plt.legend(['Training', 'Validation'])\n",
        "plt.title('Training and Validation accuracy')\n",
        "plt.xlabel('epoch')\n",
        "plt.ylabel('accuracy')"
      ],
      "metadata": {
        "id": "H_rSrWdQaVFF",
        "colab": {
          "base_uri": "https://localhost:8080/",
          "height": 313
        },
        "outputId": "eaf175f0-9a1d-46fe-94ca-dc9c68ce09c7"
      },
      "execution_count": 30,
      "outputs": [
        {
          "output_type": "execute_result",
          "data": {
            "text/plain": [
              "Text(0, 0.5, 'accuracy')"
            ]
          },
          "metadata": {},
          "execution_count": 30
        },
        {
          "output_type": "display_data",
          "data": {
            "text/plain": [
              "<Figure size 432x288 with 1 Axes>"
            ],
            "image/png": "[encoded data removed]"
          },
          "metadata": {
            "needs_background": "light"
          }
        }
      ]
    },
    {
      "cell_type": "code",
      "source": [
        "y_pred = best_model.predict(test_generator)\n",
        "y_pred"
      ],
      "metadata": {
        "id": "-4JqcOglaagL",
        "colab": {
          "base_uri": "https://localhost:8080/"
        },
        "outputId": "37c4f9b2-dac2-498f-b3f8-0fcbae39d80f"
      },
      "execution_count": 31,
      "outputs": [
        {
          "output_type": "stream",
          "name": "stdout",
          "text": [
            "775/775 [==============================] - 134s 172ms/step\n"
          ]
        },
        {
          "output_type": "execute_result",
          "data": {
            "text/plain": [
              "array([[9.7125787e-15, 1.4181141e-20, 9.9999952e-01, 6.7914244e-22,\n",
              "        2.1210619e-18, 4.2569130e-07],\n",
              "       [2.4411673e-20, 4.7629865e-30, 4.8681174e-21, 8.3439825e-29,\n",
              "        1.7866200e-16, 1.0000000e+00],\n",
              "       [5.0771224e-22, 2.4115739e-30, 1.0000000e+00, 1.3472170e-25,\n",
              "        1.9296015e-24, 4.0201882e-19],\n",
              "       ...,\n",
              "       [3.3676325e-16, 3.0323823e-22, 1.0000000e+00, 5.2067016e-18,\n",
              "        1.2563788e-22, 3.3413268e-14],\n",
              "       [2.4765098e-20, 5.6035875e-24, 1.0000000e+00, 8.6496867e-17,\n",
              "        3.1451685e-28, 1.8087613e-18],\n",
              "       [1.8514950e-15, 4.9229621e-22, 9.9999988e-01, 2.9268567e-22,\n",
              "        6.0514073e-19, 1.2076646e-07]], dtype=float32)"
            ]
          },
          "metadata": {},
          "execution_count": 31
        }
      ]
    },
    {
      "cell_type": "code",
      "source": [
        "y_pred = np.argmax(y_pred, axis=1)\n",
        "y_pred"
      ],
      "metadata": {
        "id": "v5yl9PMQacmj",
        "colab": {
          "base_uri": "https://localhost:8080/"
        },
        "outputId": "ef369330-7848-4f71-a6ab-f7bf5394013a"
      },
      "execution_count": 32,
      "outputs": [
        {
          "output_type": "execute_result",
          "data": {
            "text/plain": [
              "array([2, 5, 2, ..., 2, 2, 2])"
            ]
          },
          "metadata": {},
          "execution_count": 32
        }
      ]
    },
    {
      "cell_type": "code",
      "source": [
        "from sklearn.metrics import confusion_matrix, classification_report\n",
        "cm = confusion_matrix(test_generator.labels, y_pred)\n",
        "print(cm)\n",
        "print('classification report')\n",
        "print( classification_report(test_generator.labels, y_pred))"
      ],
      "metadata": {
        "colab": {
          "base_uri": "https://localhost:8080/"
        },
        "id": "bS-IcSH51r1V",
        "outputId": "d1987866-24c1-40cc-d48a-83cc31b3d147"
      },
      "execution_count": 33,
      "outputs": [
        {
          "output_type": "stream",
          "name": "stdout",
          "text": [
            "[[    1    11   123    11     2    13]\n",
            " [   15   170  1630   128    49   109]\n",
            " [  121  1600 14422  1256   428  1099]\n",
            " [   10   137  1234    91    32   104]\n",
            " [    5    48   429    31     9    34]\n",
            " [    9   135  1088    91    36    88]]\n",
            "classification report\n",
            "              precision    recall  f1-score   support\n",
            "\n",
            "           0       0.01      0.01      0.01       161\n",
            "           1       0.08      0.08      0.08      2101\n",
            "           2       0.76      0.76      0.76     18926\n",
            "           3       0.06      0.06      0.06      1608\n",
            "           4       0.02      0.02      0.02       556\n",
            "           5       0.06      0.06      0.06      1447\n",
            "\n",
            "    accuracy                           0.60     24799\n",
            "   macro avg       0.16      0.16      0.16     24799\n",
            "weighted avg       0.60      0.60      0.60     24799\n",
            "\n"
          ]
        }
      ]
    },
    {
      "cell_type": "code",
      "source": [],
      "metadata": {
        "id": "oFxGHIupeV0i"
      },
      "execution_count": null,
      "outputs": []
    }
  ],
  "metadata": {
    "colab": {
      "provenance": [],
      "include_colab_link": true
    },
    "kernelspec": {
      "display_name": "Python 3",
      "name": "python3"
    },
    "language_info": {
      "name": "python"
    },
    "accelerator": "GPU",
    "gpuClass": "standard"
  },
  "nbformat": 4,
  "nbformat_minor": 0
}