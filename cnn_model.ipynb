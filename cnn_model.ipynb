{
  "cells": [
    {
      "cell_type": "markdown",
      "metadata": {
        "id": "view-in-github",
        "colab_type": "text"
      },
      "source": [
        "<a href=\"https://colab.research.google.com/github/Anik85/Anik85/blob/main/cnn_model.ipynb\" target=\"_parent\"><img src=\"https://colab.research.google.com/assets/colab-badge.svg\" alt=\"Open In Colab\"/></a>"
      ]
    },
    {
      "cell_type": "code",
      "execution_count": 1,
      "metadata": {
        "id": "BhFw9w2e4Ei2"
      },
      "outputs": [],
      "source": [
        "!mkdir -p ~/.kaggle\n",
        "!cp kaggle.json ~/.kaggle/"
      ]
    },
    {
      "cell_type": "code",
      "execution_count": 2,
      "metadata": {
        "colab": {
          "base_uri": "https://localhost:8080/"
        },
        "id": "3EwKB0RA6-NP",
        "outputId": "fd142957-e700-46bf-aab4-3369390d38d2"
      },
      "outputs": [
        {
          "output_type": "stream",
          "name": "stdout",
          "text": [
            "Warning: Your Kaggle API key is readable by other users on this system! To fix this, you can run 'chmod 600 /root/.kaggle/kaggle.json'\n",
            "Downloading ecg-image-data.zip to /content\n",
            " 98% 841M/858M [00:05<00:00, 183MB/s]\n",
            "100% 858M/858M [00:05<00:00, 153MB/s]\n"
          ]
        }
      ],
      "source": [
        "!kaggle datasets download -d erhmrai/ecg-image-data"
      ]
    },
    {
      "cell_type": "code",
      "execution_count": 3,
      "metadata": {
        "id": "6Xo8Lw0v8em5"
      },
      "outputs": [],
      "source": [
        "import zipfile\n",
        "zip_ref=zipfile.ZipFile('/content/ecg-image-data.zip','r')\n",
        "zip_ref.extractall('/content')\n",
        "zip_ref.close()"
      ]
    },
    {
      "cell_type": "code",
      "execution_count": 4,
      "metadata": {
        "id": "5Etw9xt38fCo"
      },
      "outputs": [],
      "source": [
        "import numpy as np\n",
        "import pandas as pd\n",
        "from pathlib import Path\n",
        "import os.path\n",
        "import matplotlib.pyplot as plt\n",
        "import tensorflow as tf\n",
        "from tensorflow.keras.models import Sequential\n",
        "from tensorflow.keras.layers import Convolution2D\n",
        "from tensorflow.keras.layers import MaxPooling2D\n",
        "from tensorflow.keras.layers import Flatten\n",
        "from tensorflow.keras.layers import Dense\n",
        "from tensorflow.keras.layers import Dropout, Activation , BatchNormalization\n",
        "from tensorflow.keras.preprocessing.image import ImageDataGenerator\n",
        "from tensorflow.keras.layers import Dense, Conv2D, MaxPool2D , Flatten\n",
        "from tensorflow.keras.losses import categorical_crossentropy"
      ]
    },
    {
      "cell_type": "code",
      "execution_count": 5,
      "metadata": {
        "colab": {
          "base_uri": "https://localhost:8080/",
          "height": 53
        },
        "id": "2rv_UiC28g9L",
        "outputId": "aa8cf2ba-45c2-4195-a78a-6550bb41cf49"
      },
      "outputs": [
        {
          "output_type": "execute_result",
          "data": {
            "text/plain": [
              "\"import cv2\\npath =r'/content/ECG_Image_data/test/S/S1070.png'\\nx=plt.imread(path)\\n#x = cv2.merge((x,x,x))\\nprint(x.shape)\\nplt.imshow(x)\""
            ],
            "application/vnd.google.colaboratory.intrinsic+json": {
              "type": "string"
            }
          },
          "metadata": {},
          "execution_count": 5
        }
      ],
      "source": [
        "'''import cv2\n",
        "path =r'/content/ECG_Image_data/test/S/S1070.png'\n",
        "x=plt.imread(path)\n",
        "#x = cv2.merge((x,x,x))\n",
        "print(x.shape)\n",
        "plt.imshow(x)'''"
      ]
    },
    {
      "cell_type": "code",
      "execution_count": 6,
      "metadata": {
        "colab": {
          "base_uri": "https://localhost:8080/",
          "height": 89
        },
        "id": "9h5VN5-s8jaw",
        "outputId": "b72c4270-9a81-4c87-ce8f-02f7655a248e"
      },
      "outputs": [
        {
          "output_type": "execute_result",
          "data": {
            "text/plain": [
              "\"train_dir = Path('/content/ECG_Image_data/train')\\n\\nfilepaths = list(train_dir.glob(r'**/*.png'))\\nlabels = list(map(lambda x: os.path.split(os.path.split(x)[0])[1], filepaths))\\n\\n\\nfilepaths = pd.Series(filepaths, name='Filepath').astype(str)\\nlabels = pd.Series(labels, name='Label')\\n\\ndataframe = pd.concat([filepaths , labels] , axis=1)\\ndataframe\""
            ],
            "application/vnd.google.colaboratory.intrinsic+json": {
              "type": "string"
            }
          },
          "metadata": {},
          "execution_count": 6
        }
      ],
      "source": [
        "'''train_dir = Path('/content/ECG_Image_data/train')\n",
        "\n",
        "filepaths = list(train_dir.glob(r'**/*.png'))\n",
        "labels = list(map(lambda x: os.path.split(os.path.split(x)[0])[1], filepaths))\n",
        "\n",
        "\n",
        "filepaths = pd.Series(filepaths, name='Filepath').astype(str)\n",
        "labels = pd.Series(labels, name='Label')\n",
        "\n",
        "dataframe = pd.concat([filepaths , labels] , axis=1)\n",
        "dataframe'''"
      ]
    },
    {
      "cell_type": "code",
      "execution_count": 7,
      "metadata": {
        "id": "TDdBMbjm8pTe"
      },
      "outputs": [],
      "source": [
        "#dataframe['Label'].value_counts()"
      ]
    },
    {
      "cell_type": "code",
      "execution_count": 8,
      "metadata": {
        "colab": {
          "base_uri": "https://localhost:8080/",
          "height": 71
        },
        "id": "9Qxo3qOM8sAS",
        "outputId": "55686fa9-5e35-4fd8-bcc8-67e4c1cd8ea7"
      },
      "outputs": [
        {
          "output_type": "execute_result",
          "data": {
            "text/plain": [
              "'samples = []\\nfor category in dataframe[\\'Label\\'].unique():\\n    category_slice = dataframe.query(\"Label == @category\")\\n    samples.append(category_slice.sample(640, random_state=1))\\n\\ndataframe_train = pd.concat(samples, axis=0).sample(frac=1.0, random_state=1).reset_index(drop=True)\\ndataframe_train[\\'Label\\'].value_counts()'"
            ],
            "application/vnd.google.colaboratory.intrinsic+json": {
              "type": "string"
            }
          },
          "metadata": {},
          "execution_count": 8
        }
      ],
      "source": [
        "'''samples = []\n",
        "for category in dataframe['Label'].unique():\n",
        "    category_slice = dataframe.query(\"Label == @category\")\n",
        "    samples.append(category_slice.sample(640, random_state=1))\n",
        "\n",
        "dataframe_train = pd.concat(samples, axis=0).sample(frac=1.0, random_state=1).reset_index(drop=True)\n",
        "dataframe_train['Label'].value_counts()'''"
      ]
    },
    {
      "cell_type": "code",
      "execution_count": 9,
      "metadata": {
        "id": "I4H2BmT98uSQ"
      },
      "outputs": [],
      "source": [
        "#dataframe_train"
      ]
    },
    {
      "cell_type": "code",
      "execution_count": 10,
      "metadata": {
        "colab": {
          "base_uri": "https://localhost:8080/",
          "height": 89
        },
        "id": "svQVNBi08wYk",
        "outputId": "0a78f1f9-1152-468d-de11-1834e7ebbdb2"
      },
      "outputs": [
        {
          "output_type": "execute_result",
          "data": {
            "text/plain": [
              "\"test_dir = Path('/content/ECG_Image_data/test')\\n\\nfilepaths = list(test_dir.glob(r'**/*.png'))\\nlabels = list(map(lambda x: os.path.split(os.path.split(x)[0])[1], filepaths))\\n\\nfilepaths = pd.Series(filepaths, name='Filepath').astype(str)\\nlabels = pd.Series(labels, name='Label')\\n\\ndataframe_test = pd.concat([filepaths , labels] , axis=1)\\ndataframe_test\""
            ],
            "application/vnd.google.colaboratory.intrinsic+json": {
              "type": "string"
            }
          },
          "metadata": {},
          "execution_count": 10
        }
      ],
      "source": [
        "'''test_dir = Path('/content/ECG_Image_data/test')\n",
        "\n",
        "filepaths = list(test_dir.glob(r'**/*.png'))\n",
        "labels = list(map(lambda x: os.path.split(os.path.split(x)[0])[1], filepaths))\n",
        "\n",
        "filepaths = pd.Series(filepaths, name='Filepath').astype(str)\n",
        "labels = pd.Series(labels, name='Label')\n",
        "\n",
        "dataframe_test = pd.concat([filepaths , labels] , axis=1)\n",
        "dataframe_test'''"
      ]
    },
    {
      "cell_type": "code",
      "execution_count": 11,
      "metadata": {
        "id": "8kQRxGRE8yWj"
      },
      "outputs": [],
      "source": [
        "#dataframe_test['Label'].value_counts()"
      ]
    },
    {
      "cell_type": "code",
      "execution_count": 12,
      "metadata": {
        "colab": {
          "base_uri": "https://localhost:8080/",
          "height": 71
        },
        "id": "VNXbvgut87jZ",
        "outputId": "65f6d4e0-c1c2-4141-dd37-c460fadc8047"
      },
      "outputs": [
        {
          "output_type": "execute_result",
          "data": {
            "text/plain": [
              "'samples = []\\nfor category in dataframe_test[\\'Label\\'].unique():\\n    category_slice = dataframe_test.query(\"Label == @category\")\\n    samples.append(category_slice.sample(160, random_state=1))\\n\\ndataframe_test = pd.concat(samples, axis=0).sample(frac=1.0, random_state=1).reset_index(drop=True)\\ndataframe_test[\\'Label\\'].value_counts()'"
            ],
            "application/vnd.google.colaboratory.intrinsic+json": {
              "type": "string"
            }
          },
          "metadata": {},
          "execution_count": 12
        }
      ],
      "source": [
        "'''samples = []\n",
        "for category in dataframe_test['Label'].unique():\n",
        "    category_slice = dataframe_test.query(\"Label == @category\")\n",
        "    samples.append(category_slice.sample(160, random_state=1))\n",
        "\n",
        "dataframe_test = pd.concat(samples, axis=0).sample(frac=1.0, random_state=1).reset_index(drop=True)\n",
        "dataframe_test['Label'].value_counts()'''"
      ]
    },
    {
      "cell_type": "code",
      "execution_count": 13,
      "metadata": {
        "id": "h_SxGeCr89gW"
      },
      "outputs": [],
      "source": [
        "#dataframe_test"
      ]
    },
    {
      "cell_type": "code",
      "execution_count": 14,
      "metadata": {
        "colab": {
          "base_uri": "https://localhost:8080/",
          "height": 53
        },
        "id": "NrC7D59K8_QQ",
        "outputId": "7ab9ef7e-fa65-44bb-ca53-cebcbbe772f6"
      },
      "outputs": [
        {
          "output_type": "execute_result",
          "data": {
            "text/plain": [
              "'from keras.utils import img_to_array,load_img\\nimg = load_img(dataframe_test[\\'Filepath\\'].values[1])\\nplt.imshow(img)\\nplt.axis(\"on\")\\nplt.show()'"
            ],
            "application/vnd.google.colaboratory.intrinsic+json": {
              "type": "string"
            }
          },
          "metadata": {},
          "execution_count": 14
        }
      ],
      "source": [
        "'''from keras.utils import img_to_array,load_img\n",
        "img = load_img(dataframe_test['Filepath'].values[1])\n",
        "plt.imshow(img)\n",
        "plt.axis(\"on\")\n",
        "plt.show()'''"
      ]
    },
    {
      "cell_type": "code",
      "execution_count": 15,
      "metadata": {
        "id": "3H4RZlCL9B_x"
      },
      "outputs": [],
      "source": [
        "labels=list()\n",
        "path='/content/ECG_Image_data/train/'\n",
        "os.listdir(path)\n",
        "for i in os.listdir(path):\n",
        "    labels.append(i)"
      ]
    },
    {
      "cell_type": "code",
      "execution_count": 16,
      "metadata": {
        "id": "QiNv76Ws9KvI",
        "colab": {
          "base_uri": "https://localhost:8080/"
        },
        "outputId": "6e13436c-33fb-490d-8127-55e10c19c429"
      },
      "outputs": [
        {
          "output_type": "execute_result",
          "data": {
            "text/plain": [
              "['Q', 'F', 'S', 'V', 'N', 'M']"
            ]
          },
          "metadata": {},
          "execution_count": 16
        }
      ],
      "source": [
        "labels"
      ]
    },
    {
      "cell_type": "code",
      "execution_count": 17,
      "metadata": {
        "id": "pCkTfdiP-Yiv",
        "colab": {
          "base_uri": "https://localhost:8080/"
        },
        "outputId": "d0206020-cbe6-4f4b-d411-bdedfcadb631"
      },
      "outputs": [
        {
          "output_type": "stream",
          "name": "stdout",
          "text": [
            "Length of :Q= 6431\n",
            "Length of :F= 642\n",
            "Length of :S= 2223\n",
            "Length of :V= 5789\n",
            "Length of :N= 75709\n",
            "Length of :M= 8405\n",
            "Total Samples:99199\n"
          ]
        }
      ],
      "source": [
        "Total_sample=0\n",
        "for i in os.listdir(path):\n",
        "    print(f'Length of :{i}= {len(os.listdir(os.path.join(path,i)))}')\n",
        "    Total_sample+=len(os.listdir(os.path.join(path,i)))\n",
        "print(f'Total Samples:{Total_sample}')"
      ]
    },
    {
      "cell_type": "code",
      "execution_count": 18,
      "metadata": {
        "id": "Uv00_LC2DUyR"
      },
      "outputs": [],
      "source": [
        "#!pip install tqdm\n",
        "from tqdm import tqdm"
      ]
    },
    {
      "cell_type": "code",
      "execution_count": 19,
      "metadata": {
        "id": "SIf6dYigDWnP",
        "colab": {
          "base_uri": "https://localhost:8080/"
        },
        "outputId": "4d1df7fe-5e1a-46ef-c21e-ece2bda88efa"
      },
      "outputs": [
        {
          "output_type": "stream",
          "name": "stderr",
          "text": [
            "  8%|▊         | 500/6431 [00:07<01:29, 66.35it/s]\n",
            " 78%|███████▊  | 500/642 [00:07<00:02, 66.45it/s]\n",
            " 22%|██▏       | 500/2223 [00:12<00:44, 39.08it/s]\n",
            "  9%|▊         | 500/5789 [00:10<01:49, 48.25it/s]\n",
            "  1%|          | 500/75709 [00:09<22:44, 55.11it/s]\n",
            "  6%|▌         | 500/8405 [00:07<02:06, 62.56it/s]\n"
          ]
        }
      ],
      "source": [
        "import skimage\n",
        "import cv2\n",
        "from skimage.io import imread,imshow\n",
        "from skimage import transform\n",
        "img_size=170     # 170x170\n",
        "X=[] \n",
        "Y=[]\n",
        "i=0\n",
        "for idx,img in enumerate(os.listdir(path)):\n",
        "    for img_name in tqdm(os.listdir(path+img)):\n",
        "        if i<500:\n",
        "            img_file=cv2.imread(path+img+'/'+img_name)\n",
        "            if img_file is not None:\n",
        "                img_file=transform.resize(img_file,(img_size,img_size,3))\n",
        "                X.append(img_file)\n",
        "                Y.append(idx)\n",
        "        else:\n",
        "            break\n",
        "        i=i+1\n",
        "    i=0\n",
        "X=np.asarray(X)\n",
        "Y=np.asarray(Y)"
      ]
    },
    {
      "cell_type": "code",
      "execution_count": 20,
      "metadata": {
        "id": "_EggC4jZDYN-",
        "colab": {
          "base_uri": "https://localhost:8080/",
          "height": 281
        },
        "outputId": "d6bb10bc-5ce9-4cf2-9709-440c482cd2f3"
      },
      "outputs": [
        {
          "output_type": "display_data",
          "data": {
            "text/plain": [
              "<Figure size 432x288 with 1 Axes>"
            ],
            "image/png": "[encoded data removed]"
          },
          "metadata": {
            "needs_background": "light"
          }
        }
      ],
      "source": [
        "plt.imshow(X[601])\n",
        "plt.title(labels[Y[601]])\n",
        "plt.show()"
      ]
    },
    {
      "cell_type": "code",
      "execution_count": 21,
      "metadata": {
        "id": "WIKb6isdD-LR",
        "colab": {
          "base_uri": "https://localhost:8080/",
          "height": 126
        },
        "outputId": "c3a54cb0-096b-41f8-8d5f-30fe895e61d4"
      },
      "outputs": [
        {
          "output_type": "display_data",
          "data": {
            "text/plain": [
              "<Figure size 6480x2880 with 10 Axes>"
            ],
            "image/png": "[encoded data removed]"
          },
          "metadata": {
            "needs_background": "light"
          }
        }
      ],
      "source": [
        "from random import randint\n",
        "n = 50  # how many digits we will display\n",
        "plt.figure(figsize=(90,40))\n",
        "for i in range(10,20):\n",
        "    # display original\n",
        "    rn=randint(0,987)\n",
        "    ax = plt.subplot(1, n, i + 1)\n",
        "    plt.imshow(X[rn])\n",
        "    plt.title(labels[Y[rn]])\n",
        "    plt.gray()\n",
        "    ax.get_xaxis().set_visible(False)\n",
        "    ax.get_yaxis().set_visible(False)\n",
        "plt.show()\n",
        "plt.close()"
      ]
    },
    {
      "cell_type": "code",
      "execution_count": 22,
      "metadata": {
        "id": "Gs15Q2G0D_-y"
      },
      "outputs": [],
      "source": [
        "from sklearn.model_selection import train_test_split\n",
        "X_train,X_test,Y_train,Y_test=train_test_split(X,Y,test_size=0.2,stratify=Y)"
      ]
    },
    {
      "cell_type": "code",
      "execution_count": 23,
      "metadata": {
        "id": "5EN_6lYlEBoJ",
        "colab": {
          "base_uri": "https://localhost:8080/"
        },
        "outputId": "a511c11a-4ee4-4aca-9788-41ce7b1a2ffd"
      },
      "outputs": [
        {
          "output_type": "stream",
          "name": "stdout",
          "text": [
            "Shapes of Data Split into Train & Test Part\n",
            "Training Data->(2400, 170, 170, 3),(2400,) Testing Data->((600, 170, 170, 3), (600,))\n"
          ]
        }
      ],
      "source": [
        "print('Shapes of Data Split into Train & Test Part')\n",
        "print(f'Training Data->{X_train.shape},{Y_train.shape} Testing Data->{X_test.shape,Y_test.shape}')"
      ]
    },
    {
      "cell_type": "code",
      "execution_count": 24,
      "metadata": {
        "id": "aC8-oVU8EJ6O"
      },
      "outputs": [],
      "source": [
        "from keras.utils.np_utils import to_categorical\n",
        "Y_train=to_categorical(Y_train,num_classes=len(labels))\n",
        "Y_test=to_categorical(Y_test,num_classes=len(labels))"
      ]
    },
    {
      "cell_type": "code",
      "execution_count": 25,
      "metadata": {
        "id": "UYKfRFl_EPoV",
        "colab": {
          "base_uri": "https://localhost:8080/"
        },
        "outputId": "44cce826-c6d3-44cf-8d2a-7c6ec725d449"
      },
      "outputs": [
        {
          "output_type": "execute_result",
          "data": {
            "text/plain": [
              "((2400, 6), (600, 6))"
            ]
          },
          "metadata": {},
          "execution_count": 25
        }
      ],
      "source": [
        "Y_train.shape,Y_test.shape"
      ]
    },
    {
      "cell_type": "code",
      "execution_count": 26,
      "metadata": {
        "id": "m7E5VIBsEX4F",
        "colab": {
          "base_uri": "https://localhost:8080/"
        },
        "outputId": "6d6775ee-4281-4cbb-b1ce-3b1645440897"
      },
      "outputs": [
        {
          "output_type": "stream",
          "name": "stdout",
          "text": [
            "Model: \"sequential\"\n",
            "_________________________________________________________________\n",
            " Layer (type)                Output Shape              Param #   \n",
            "=================================================================\n",
            " conv2d (Conv2D)             (None, 168, 168, 200)     5600      \n",
            "                                                                 \n",
            " conv2d_1 (Conv2D)           (None, 166, 166, 150)     270150    \n",
            "                                                                 \n",
            " max_pooling2d (MaxPooling2D  (None, 41, 41, 150)      0         \n",
            " )                                                               \n",
            "                                                                 \n",
            " conv2d_2 (Conv2D)           (None, 39, 39, 120)       162120    \n",
            "                                                                 \n",
            " conv2d_3 (Conv2D)           (None, 37, 37, 80)        86480     \n",
            "                                                                 \n",
            " conv2d_4 (Conv2D)           (None, 35, 35, 50)        36050     \n",
            "                                                                 \n",
            " max_pooling2d_1 (MaxPooling  (None, 8, 8, 50)         0         \n",
            " 2D)                                                             \n",
            "                                                                 \n",
            " flatten (Flatten)           (None, 3200)              0         \n",
            "                                                                 \n",
            " dense (Dense)               (None, 120)               384120    \n",
            "                                                                 \n",
            " dense_1 (Dense)             (None, 100)               12100     \n",
            "                                                                 \n",
            " dense_2 (Dense)             (None, 50)                5050      \n",
            "                                                                 \n",
            " dropout (Dropout)           (None, 50)                0         \n",
            "                                                                 \n",
            " dense_3 (Dense)             (None, 6)                 306       \n",
            "                                                                 \n",
            "=================================================================\n",
            "Total params: 961,976\n",
            "Trainable params: 961,976\n",
            "Non-trainable params: 0\n",
            "_________________________________________________________________\n"
          ]
        }
      ],
      "source": [
        "from tensorflow import keras\n",
        "KerasModel = keras.models.Sequential([#bulid nn\n",
        "        keras.layers.Conv2D(200,kernel_size=(3,3),activation='relu',input_shape=(170,170,3)),\n",
        "        #1 convolutional layer 200filter each filter 3*3 relu  input 100*100*3 rgb\n",
        "        keras.layers.Conv2D(150,kernel_size=(3,3),activation='relu'),\n",
        "       #2 convolutional layer 150filter each filter 3*3 relu\n",
        "        keras.layers.MaxPool2D(4,4),\n",
        "        #3 maxpool layer 4*4\n",
        "        keras.layers.Conv2D(120,kernel_size=(3,3),activation='relu'),\n",
        "        #4 convolutional layer 120filter each filter 3*3 relu\n",
        "        keras.layers.Conv2D(80,kernel_size=(3,3),activation='relu'), \n",
        "        #5 convolutional layer 80filter each filter 3*3 relu\n",
        "        keras.layers.Conv2D(50,kernel_size=(3,3),activation='relu'),\n",
        "        #6 convolutional layer 50filter each filter 3*3 relu\n",
        "        keras.layers.MaxPool2D(4,4),#7 maxpool layer 4*4\n",
        "        keras.layers.Flatten(),  #make the matrix flate\n",
        "        keras.layers.Dense(120,activation='relu') , #hidden layer (120cell)   \n",
        "        keras.layers.Dense(100,activation='relu') , #hidden layer (100cell)\n",
        "        keras.layers.Dense(50,activation='relu') ,  #hidden layer (50cell)      \n",
        "        keras.layers.Dropout(rate=0.5) , \n",
        "        #drop some nuron 50% reduces the number of connections to increase speed and reduces the overfit\n",
        "        keras.layers.Dense(6,activation='softmax') ,  #output layer 6  \n",
        "    ])\n",
        "KerasModel.compile(loss='categorical_crossentropy',optimizer='adam',metrics=['accuracy'])\n",
        "KerasModel.summary()"
      ]
    },
    {
      "cell_type": "code",
      "execution_count": 27,
      "metadata": {
        "id": "8h3XrFkfAemC",
        "colab": {
          "base_uri": "https://localhost:8080/"
        },
        "outputId": "8cb55dae-39e1-4b1d-e42d-f064f7003cf5"
      },
      "outputs": [
        {
          "output_type": "stream",
          "name": "stdout",
          "text": [
            "Epoch 1/20\n",
            "75/75 [==============================] - 39s 346ms/step - loss: 1.6209 - accuracy: 0.2596 - val_loss: 1.3474 - val_accuracy: 0.3567\n",
            "Epoch 2/20\n",
            "75/75 [==============================] - 24s 323ms/step - loss: 0.9393 - accuracy: 0.6125 - val_loss: 0.4462 - val_accuracy: 0.9617\n",
            "Epoch 3/20\n",
            "75/75 [==============================] - 24s 323ms/step - loss: 0.3650 - accuracy: 0.8608 - val_loss: 0.0851 - val_accuracy: 1.0000\n",
            "Epoch 4/20\n",
            "75/75 [==============================] - 24s 320ms/step - loss: 1.1266 - accuracy: 0.6025 - val_loss: 0.9252 - val_accuracy: 0.6517\n",
            "Epoch 5/20\n",
            "75/75 [==============================] - 24s 320ms/step - loss: 0.8569 - accuracy: 0.6183 - val_loss: 0.4757 - val_accuracy: 0.7883\n",
            "Epoch 6/20\n",
            "75/75 [==============================] - 24s 321ms/step - loss: 0.7912 - accuracy: 0.6308 - val_loss: 0.4956 - val_accuracy: 0.7950\n",
            "Epoch 7/20\n",
            "75/75 [==============================] - 24s 320ms/step - loss: 0.6468 - accuracy: 0.6892 - val_loss: 0.3696 - val_accuracy: 0.8233\n",
            "Epoch 8/20\n",
            "75/75 [==============================] - 24s 320ms/step - loss: 0.5736 - accuracy: 0.7412 - val_loss: 0.3050 - val_accuracy: 0.8217\n",
            "Epoch 9/20\n",
            "75/75 [==============================] - 24s 321ms/step - loss: 0.4840 - accuracy: 0.7458 - val_loss: 0.2890 - val_accuracy: 0.8217\n",
            "Epoch 10/20\n",
            "75/75 [==============================] - 24s 320ms/step - loss: 0.4282 - accuracy: 0.7646 - val_loss: 0.2858 - val_accuracy: 0.8217\n",
            "Epoch 11/20\n",
            "75/75 [==============================] - 24s 320ms/step - loss: 0.3730 - accuracy: 0.7833 - val_loss: 0.2386 - val_accuracy: 0.8333\n",
            "Epoch 12/20\n",
            "75/75 [==============================] - 24s 320ms/step - loss: 0.8926 - accuracy: 0.6021 - val_loss: 1.4360 - val_accuracy: 0.3333\n",
            "Epoch 13/20\n",
            "75/75 [==============================] - 24s 319ms/step - loss: 1.5237 - accuracy: 0.3288 - val_loss: 1.5096 - val_accuracy: 0.3150\n",
            "Epoch 14/20\n",
            "75/75 [==============================] - 24s 319ms/step - loss: 1.3414 - accuracy: 0.3667 - val_loss: 0.7734 - val_accuracy: 0.5217\n",
            "Epoch 15/20\n",
            "75/75 [==============================] - 24s 319ms/step - loss: 0.8659 - accuracy: 0.5883 - val_loss: 0.4244 - val_accuracy: 0.8183\n",
            "Epoch 16/20\n",
            "75/75 [==============================] - 24s 319ms/step - loss: 0.6114 - accuracy: 0.7250 - val_loss: 0.3205 - val_accuracy: 0.8300\n",
            "Epoch 17/20\n",
            "75/75 [==============================] - 24s 319ms/step - loss: 0.4414 - accuracy: 0.7717 - val_loss: 0.2516 - val_accuracy: 0.8300\n",
            "Epoch 18/20\n",
            "75/75 [==============================] - 24s 319ms/step - loss: 0.5455 - accuracy: 0.7275 - val_loss: 0.3861 - val_accuracy: 0.8283\n",
            "Epoch 19/20\n",
            "75/75 [==============================] - 24s 319ms/step - loss: 0.4280 - accuracy: 0.7625 - val_loss: 0.2411 - val_accuracy: 0.8317\n",
            "Epoch 20/20\n",
            "75/75 [==============================] - 24s 319ms/step - loss: 0.8270 - accuracy: 0.6712 - val_loss: 0.1898 - val_accuracy: 0.9217\n"
          ]
        }
      ],
      "source": [
        "history=KerasModel.fit(X_train,Y_train,validation_data=(X_test,Y_test),epochs=20,batch_size=32,verbose=1)"
      ]
    },
    {
      "cell_type": "code",
      "execution_count": 28,
      "metadata": {
        "id": "mJzl6XCMEoST",
        "colab": {
          "base_uri": "https://localhost:8080/"
        },
        "outputId": "260f3a1a-3464-47fa-d035-0dcb8d2ab320"
      },
      "outputs": [
        {
          "output_type": "stream",
          "name": "stderr",
          "text": [
            " 19%|█▊        | 300/1608 [00:04<00:21, 60.34it/s]\n",
            "100%|██████████| 161/161 [00:02<00:00, 54.19it/s]\n",
            " 54%|█████▍    | 300/556 [00:05<00:04, 57.83it/s]\n",
            " 21%|██        | 300/1447 [00:04<00:17, 64.22it/s]\n",
            "  2%|▏         | 300/18926 [00:04<04:59, 62.17it/s]\n",
            " 14%|█▍        | 300/2101 [00:04<00:28, 63.64it/s]\n"
          ]
        }
      ],
      "source": [
        "path2='/content/ECG_Image_data/test/'\n",
        "img_size=170     # 170x170\n",
        "X_test=[] \n",
        "Y_test=[]\n",
        "i=0\n",
        "for idx,img in enumerate(os.listdir(path2)):\n",
        "    for img_name in tqdm(os.listdir(path2+img)):\n",
        "        if i<300:\n",
        "            img_file=cv2.imread(path2+img+'/'+img_name)\n",
        "            if img_file is not None:\n",
        "                img_file=transform.resize(img_file,(img_size,img_size,3))\n",
        "                X_test.append(img_file)\n",
        "                Y_test.append(idx)\n",
        "        else:\n",
        "            break\n",
        "        i=i+1\n",
        "    i=0\n",
        "x_test=np.asarray(X_test)\n",
        "y_test=np.asarray(Y_test)"
      ]
    },
    {
      "cell_type": "code",
      "execution_count": 29,
      "metadata": {
        "id": "Idd0OV9qO1HJ",
        "colab": {
          "base_uri": "https://localhost:8080/"
        },
        "outputId": "65b1b7e1-d628-4e5a-c4fe-6740fa5d78ab"
      },
      "outputs": [
        {
          "output_type": "stream",
          "name": "stdout",
          "text": [
            "52/52 [==============================] - 7s 141ms/step - loss: 0.2305 - accuracy: 0.9272\n",
            "[0.2304784208536148, 0.9271523356437683]\n"
          ]
        }
      ],
      "source": [
        "y_test=to_categorical(y_test,num_classes=len(labels))\n",
        "print(KerasModel.evaluate(x_test,y_test))"
      ]
    },
    {
      "cell_type": "code",
      "execution_count": 30,
      "metadata": {
        "id": "8k4OtieIQQ5K",
        "colab": {
          "base_uri": "https://localhost:8080/"
        },
        "outputId": "9865b162-9605-4d1c-d047-d60f0b609edd"
      },
      "outputs": [
        {
          "output_type": "stream",
          "name": "stdout",
          "text": [
            "52/52 [==============================] - 6s 109ms/step - loss: 0.2305 - accuracy: 0.9272\n",
            "Test Loss: 0.23048\n",
            "Test Accuracy: 92.72%\n"
          ]
        }
      ],
      "source": [
        "results = KerasModel.evaluate(x_test,y_test)\n",
        "\n",
        "print(\"Test Loss: {:.5f}\".format(results[0]))\n",
        "print(\"Test Accuracy: {:.2f}%\".format(results[1] * 100))"
      ]
    },
    {
      "cell_type": "code",
      "execution_count": 31,
      "metadata": {
        "id": "Ay47omRmRID7",
        "colab": {
          "base_uri": "https://localhost:8080/",
          "height": 313
        },
        "outputId": "0c916b15-566d-4609-a438-c74ba26f4cef"
      },
      "outputs": [
        {
          "output_type": "execute_result",
          "data": {
            "text/plain": [
              "Text(0, 0.5, 'loss')"
            ]
          },
          "metadata": {},
          "execution_count": 31
        },
        {
          "output_type": "display_data",
          "data": {
            "text/plain": [
              "<Figure size 432x288 with 1 Axes>"
            ],
            "image/png": "[encoded data removed]"
          },
          "metadata": {
            "needs_background": "light"
          }
        }
      ],
      "source": [
        "import matplotlib.pyplot as plt\n",
        "\n",
        "plt.plot(history.history['loss'])\n",
        "plt.plot(history.history['val_loss'])\n",
        "plt.legend(['Training', 'Validation'])\n",
        "plt.title('Training and Validation losses')\n",
        "plt.xlabel('epoch')\n",
        "plt.ylabel('loss')\n",
        "     "
      ]
    },
    {
      "cell_type": "code",
      "source": [
        "plt.plot(history.history['accuracy'])\n",
        "plt.plot(history.history['val_accuracy'])\n",
        "plt.legend(['Training', 'Validation'])\n",
        "plt.title('Training and Validation accuracy')\n",
        "plt.xlabel('epoch')\n",
        "plt.ylabel('accuracy')\n",
        "     "
      ],
      "metadata": {
        "id": "ifHTALorTuPQ",
        "colab": {
          "base_uri": "https://localhost:8080/",
          "height": 313
        },
        "outputId": "db9c1985-ad5d-4670-c8cc-184035e66ae0"
      },
      "execution_count": 32,
      "outputs": [
        {
          "output_type": "execute_result",
          "data": {
            "text/plain": [
              "Text(0, 0.5, 'accuracy')"
            ]
          },
          "metadata": {},
          "execution_count": 32
        },
        {
          "output_type": "display_data",
          "data": {
            "text/plain": [
              "<Figure size 432x288 with 1 Axes>"
            ],
            "image/png": "[encoded data removed]"
          },
          "metadata": {
            "needs_background": "light"
          }
        }
      ]
    },
    {
      "cell_type": "code",
      "source": [
        "from sklearn.metrics import confusion_matrix,classification_report\n",
        "import seaborn as sns\n",
        "\n",
        "Y_pred = KerasModel.predict(x_test)\n",
        "Y_pred_classes = np.argmax(Y_pred,axis = 1) \n",
        "Y_true = np.argmax(y_test,axis = 1) \n",
        "\n",
        "confusion_mtx = confusion_matrix(Y_true, Y_pred_classes) \n",
        "\n",
        "f,ax = plt.subplots(figsize=(8, 8))\n",
        "sns.heatmap(confusion_mtx, annot=True, linewidths=0.01,cmap=\"Oranges\",linecolor=\"gray\", fmt= '.1f',ax=ax)\n",
        "plt.xlabel(\"Predicted Label\")\n",
        "plt.ylabel(\"True Label\")\n",
        "plt.title(\"Confusion Matrix\")\n",
        "plt.show()"
      ],
      "metadata": {
        "id": "tQCcxsHsUiW-",
        "colab": {
          "base_uri": "https://localhost:8080/",
          "height": 531
        },
        "outputId": "5199b638-2db0-4faa-8616-2a283625b4d8"
      },
      "execution_count": 33,
      "outputs": [
        {
          "output_type": "stream",
          "name": "stdout",
          "text": [
            "52/52 [==============================] - 5s 104ms/step\n"
          ]
        },
        {
          "output_type": "display_data",
          "data": {
            "text/plain": [
              "<Figure size 576x576 with 2 Axes>"
            ],
            "image/png": "[encoded data removed]"
          },
          "metadata": {
            "needs_background": "light"
          }
        }
      ]
    },
    {
      "cell_type": "code",
      "source": [
        "print(classification_report(Y_true, Y_pred_classes))"
      ],
      "metadata": {
        "id": "TCdp32z3VH14",
        "colab": {
          "base_uri": "https://localhost:8080/"
        },
        "outputId": "19cd641f-268e-4636-9d02-86ddae90c74c"
      },
      "execution_count": 34,
      "outputs": [
        {
          "output_type": "stream",
          "name": "stdout",
          "text": [
            "              precision    recall  f1-score   support\n",
            "\n",
            "           0       0.96      0.99      0.98       300\n",
            "           1       0.61      0.99      0.75       161\n",
            "           2       1.00      0.99      0.99       300\n",
            "           3       0.99      1.00      1.00       300\n",
            "           4       0.99      0.65      0.79       300\n",
            "           5       0.99      0.97      0.98       300\n",
            "\n",
            "    accuracy                           0.93      1661\n",
            "   macro avg       0.92      0.93      0.91      1661\n",
            "weighted avg       0.95      0.93      0.93      1661\n",
            "\n"
          ]
        }
      ]
    },
    {
      "cell_type": "code",
      "source": [],
      "metadata": {
        "id": "7uUW5UFUVNIF"
      },
      "execution_count": 34,
      "outputs": []
    }
  ],
  "metadata": {
    "accelerator": "GPU",
    "colab": {
      "provenance": [],
      "authorship_tag": "ABX9TyOosFmiqPNNDu8GWa7URMEn",
      "include_colab_link": true
    },
    "gpuClass": "standard",
    "kernelspec": {
      "display_name": "Python 3",
      "name": "python3"
    },
    "language_info": {
      "name": "python"
    }
  },
  "nbformat": 4,
  "nbformat_minor": 0
}